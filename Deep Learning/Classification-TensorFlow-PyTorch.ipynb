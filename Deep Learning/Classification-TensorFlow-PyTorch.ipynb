{
 "cells": [
  {
   "cell_type": "markdown",
   "id": "498f9201-5ea7-4934-a80f-7391c5e96daa",
   "metadata": {},
   "source": [
    "# Import Libraries"
   ]
  },
  {
   "cell_type": "code",
   "execution_count": 150,
   "id": "92f84814-9262-4793-a30e-669fb3dc58cc",
   "metadata": {},
   "outputs": [],
   "source": [
    "import pandas as pd\n",
    "import glob\n",
    "import seaborn as sns\n",
    "import matplotlib.pyplot as plt\n",
    "import numpy as np\n",
    "from windrose import WindroseAxes\n",
    "\n",
    "from sklearn.preprocessing import OneHotEncoder\n",
    "from sklearn.preprocessing import MinMaxScaler\n",
    "from sklearn.preprocessing import LabelEncoder\n",
    "from sklearn.metrics import mean_squared_error, mean_absolute_error, root_mean_squared_error\n",
    "from sklearn.model_selection import train_test_split\n",
    "\n",
    "import tensorflow as tf\n",
    "from tensorflow import keras\n",
    "from tensorflow.keras import layers\n",
    "from tensorflow.keras.layers import Dense, Dropout\n",
    "from tensorflow.keras.constraints import max_norm\n",
    "from tensorflow.keras.callbacks import EarlyStopping\n",
    "\n",
    "import sys\n",
    "import keras_tuner as kt\n",
    "import shutil\n",
    "\n",
    "import torch\n",
    "import torch.nn as nn\n",
    "import torch.nn.functional as F"
   ]
  },
  {
   "cell_type": "markdown",
   "id": "c429de6f-c645-44fa-8ff5-2e0175208457",
   "metadata": {},
   "source": [
    "# Load Dataset into Jupyter"
   ]
  },
  {
   "cell_type": "code",
   "execution_count": 172,
   "id": "5a6525bd-6678-43f2-978a-c53703cd8586",
   "metadata": {},
   "outputs": [
    {
     "data": {
      "text/html": [
       "<div>\n",
       "<style scoped>\n",
       "    .dataframe tbody tr th:only-of-type {\n",
       "        vertical-align: middle;\n",
       "    }\n",
       "\n",
       "    .dataframe tbody tr th {\n",
       "        vertical-align: top;\n",
       "    }\n",
       "\n",
       "    .dataframe thead th {\n",
       "        text-align: right;\n",
       "    }\n",
       "</style>\n",
       "<table border=\"1\" class=\"dataframe\">\n",
       "  <thead>\n",
       "    <tr style=\"text-align: right;\">\n",
       "      <th></th>\n",
       "      <th>No</th>\n",
       "      <th>year</th>\n",
       "      <th>month</th>\n",
       "      <th>day</th>\n",
       "      <th>hour</th>\n",
       "      <th>PM2.5</th>\n",
       "      <th>PM10</th>\n",
       "      <th>SO2</th>\n",
       "      <th>NO2</th>\n",
       "      <th>CO</th>\n",
       "      <th>O3</th>\n",
       "      <th>TEMP</th>\n",
       "      <th>PRES</th>\n",
       "      <th>DEWP</th>\n",
       "      <th>RAIN</th>\n",
       "      <th>wd</th>\n",
       "      <th>WSPM</th>\n",
       "      <th>station</th>\n",
       "    </tr>\n",
       "  </thead>\n",
       "  <tbody>\n",
       "    <tr>\n",
       "      <th>0</th>\n",
       "      <td>1</td>\n",
       "      <td>2013</td>\n",
       "      <td>3</td>\n",
       "      <td>1</td>\n",
       "      <td>0</td>\n",
       "      <td>4.0</td>\n",
       "      <td>4.0</td>\n",
       "      <td>4.0</td>\n",
       "      <td>7.0</td>\n",
       "      <td>300.0</td>\n",
       "      <td>77.0</td>\n",
       "      <td>-0.7</td>\n",
       "      <td>1023.0</td>\n",
       "      <td>-18.8</td>\n",
       "      <td>0.0</td>\n",
       "      <td>NNW</td>\n",
       "      <td>4.4</td>\n",
       "      <td>Aotizhongxin</td>\n",
       "    </tr>\n",
       "    <tr>\n",
       "      <th>1</th>\n",
       "      <td>2</td>\n",
       "      <td>2013</td>\n",
       "      <td>3</td>\n",
       "      <td>1</td>\n",
       "      <td>1</td>\n",
       "      <td>8.0</td>\n",
       "      <td>8.0</td>\n",
       "      <td>4.0</td>\n",
       "      <td>7.0</td>\n",
       "      <td>300.0</td>\n",
       "      <td>77.0</td>\n",
       "      <td>-1.1</td>\n",
       "      <td>1023.2</td>\n",
       "      <td>-18.2</td>\n",
       "      <td>0.0</td>\n",
       "      <td>N</td>\n",
       "      <td>4.7</td>\n",
       "      <td>Aotizhongxin</td>\n",
       "    </tr>\n",
       "    <tr>\n",
       "      <th>2</th>\n",
       "      <td>3</td>\n",
       "      <td>2013</td>\n",
       "      <td>3</td>\n",
       "      <td>1</td>\n",
       "      <td>2</td>\n",
       "      <td>7.0</td>\n",
       "      <td>7.0</td>\n",
       "      <td>5.0</td>\n",
       "      <td>10.0</td>\n",
       "      <td>300.0</td>\n",
       "      <td>73.0</td>\n",
       "      <td>-1.1</td>\n",
       "      <td>1023.5</td>\n",
       "      <td>-18.2</td>\n",
       "      <td>0.0</td>\n",
       "      <td>NNW</td>\n",
       "      <td>5.6</td>\n",
       "      <td>Aotizhongxin</td>\n",
       "    </tr>\n",
       "    <tr>\n",
       "      <th>3</th>\n",
       "      <td>4</td>\n",
       "      <td>2013</td>\n",
       "      <td>3</td>\n",
       "      <td>1</td>\n",
       "      <td>3</td>\n",
       "      <td>6.0</td>\n",
       "      <td>6.0</td>\n",
       "      <td>11.0</td>\n",
       "      <td>11.0</td>\n",
       "      <td>300.0</td>\n",
       "      <td>72.0</td>\n",
       "      <td>-1.4</td>\n",
       "      <td>1024.5</td>\n",
       "      <td>-19.4</td>\n",
       "      <td>0.0</td>\n",
       "      <td>NW</td>\n",
       "      <td>3.1</td>\n",
       "      <td>Aotizhongxin</td>\n",
       "    </tr>\n",
       "    <tr>\n",
       "      <th>4</th>\n",
       "      <td>5</td>\n",
       "      <td>2013</td>\n",
       "      <td>3</td>\n",
       "      <td>1</td>\n",
       "      <td>4</td>\n",
       "      <td>3.0</td>\n",
       "      <td>3.0</td>\n",
       "      <td>12.0</td>\n",
       "      <td>12.0</td>\n",
       "      <td>300.0</td>\n",
       "      <td>72.0</td>\n",
       "      <td>-2.0</td>\n",
       "      <td>1025.2</td>\n",
       "      <td>-19.5</td>\n",
       "      <td>0.0</td>\n",
       "      <td>N</td>\n",
       "      <td>2.0</td>\n",
       "      <td>Aotizhongxin</td>\n",
       "    </tr>\n",
       "  </tbody>\n",
       "</table>\n",
       "</div>"
      ],
      "text/plain": [
       "   No  year  month  day  hour  PM2.5  PM10   SO2   NO2     CO    O3  TEMP  \\\n",
       "0   1  2013      3    1     0    4.0   4.0   4.0   7.0  300.0  77.0  -0.7   \n",
       "1   2  2013      3    1     1    8.0   8.0   4.0   7.0  300.0  77.0  -1.1   \n",
       "2   3  2013      3    1     2    7.0   7.0   5.0  10.0  300.0  73.0  -1.1   \n",
       "3   4  2013      3    1     3    6.0   6.0  11.0  11.0  300.0  72.0  -1.4   \n",
       "4   5  2013      3    1     4    3.0   3.0  12.0  12.0  300.0  72.0  -2.0   \n",
       "\n",
       "     PRES  DEWP  RAIN   wd  WSPM       station  \n",
       "0  1023.0 -18.8   0.0  NNW   4.4  Aotizhongxin  \n",
       "1  1023.2 -18.2   0.0    N   4.7  Aotizhongxin  \n",
       "2  1023.5 -18.2   0.0  NNW   5.6  Aotizhongxin  \n",
       "3  1024.5 -19.4   0.0   NW   3.1  Aotizhongxin  \n",
       "4  1025.2 -19.5   0.0    N   2.0  Aotizhongxin  "
      ]
     },
     "execution_count": 172,
     "metadata": {},
     "output_type": "execute_result"
    }
   ],
   "source": [
    "df = pd.read_csv(\"C:/Users/kelby/Desktop/Master's in AI/5-Deep Learning (DSCI-619)/3 - Classification - TF PT/PRSA_Data/PRSA_Data1.csv\")\n",
    "\n",
    "# Display the merged dataset\n",
    "df.head()"
   ]
  },
  {
   "cell_type": "markdown",
   "id": "fa3541f3-509a-450f-adea-db206cf334ff",
   "metadata": {},
   "source": [
    "### Check datatypes to verify they're correct. "
   ]
  },
  {
   "cell_type": "code",
   "execution_count": 173,
   "id": "bdd62961-b9d3-4f0f-9fb0-a19de4bd2000",
   "metadata": {},
   "outputs": [
    {
     "data": {
      "text/plain": [
       "No           int64\n",
       "year         int64\n",
       "month        int64\n",
       "day          int64\n",
       "hour         int64\n",
       "PM2.5      float64\n",
       "PM10       float64\n",
       "SO2        float64\n",
       "NO2        float64\n",
       "CO         float64\n",
       "O3         float64\n",
       "TEMP       float64\n",
       "PRES       float64\n",
       "DEWP       float64\n",
       "RAIN       float64\n",
       "wd          object\n",
       "WSPM       float64\n",
       "station     object\n",
       "dtype: object"
      ]
     },
     "execution_count": 173,
     "metadata": {},
     "output_type": "execute_result"
    }
   ],
   "source": [
    "df.dtypes"
   ]
  },
  {
   "cell_type": "markdown",
   "id": "acd113d6-ba47-4784-945f-8e98eb3264ca",
   "metadata": {},
   "source": [
    "### Check for null values"
   ]
  },
  {
   "cell_type": "code",
   "execution_count": 174,
   "id": "84e7055f-5eb4-435e-a34d-d6ec0ff0595e",
   "metadata": {},
   "outputs": [
    {
     "data": {
      "text/plain": [
       "No            0\n",
       "year          0\n",
       "month         0\n",
       "day           0\n",
       "hour          0\n",
       "PM2.5       925\n",
       "PM10        718\n",
       "SO2         935\n",
       "NO2        1023\n",
       "CO         1776\n",
       "O3         1719\n",
       "TEMP         20\n",
       "PRES         20\n",
       "DEWP         20\n",
       "RAIN         20\n",
       "wd           81\n",
       "WSPM         14\n",
       "station       0\n",
       "dtype: int64"
      ]
     },
     "execution_count": 174,
     "metadata": {},
     "output_type": "execute_result"
    }
   ],
   "source": [
    "df.isnull().sum(axis = 0)"
   ]
  },
  {
   "cell_type": "markdown",
   "id": "7b0693ef-32fb-4102-a72a-260512ad50a1",
   "metadata": {},
   "source": [
    "### Dropped station, not needed for analysis\n",
    "### Dropped rows with null values since dataset is large enough to offset these few observations"
   ]
  },
  {
   "cell_type": "code",
   "execution_count": 175,
   "id": "450578e3-42d2-4212-bc40-a9684d42421f",
   "metadata": {},
   "outputs": [],
   "source": [
    "df = df.drop('station', axis=1)\n",
    "df = df.dropna()"
   ]
  },
  {
   "cell_type": "code",
   "execution_count": 176,
   "id": "c89877a2-5a69-463a-a638-0657916cb84c",
   "metadata": {},
   "outputs": [
    {
     "data": {
      "text/html": [
       "<div>\n",
       "<style scoped>\n",
       "    .dataframe tbody tr th:only-of-type {\n",
       "        vertical-align: middle;\n",
       "    }\n",
       "\n",
       "    .dataframe tbody tr th {\n",
       "        vertical-align: top;\n",
       "    }\n",
       "\n",
       "    .dataframe thead th {\n",
       "        text-align: right;\n",
       "    }\n",
       "</style>\n",
       "<table border=\"1\" class=\"dataframe\">\n",
       "  <thead>\n",
       "    <tr style=\"text-align: right;\">\n",
       "      <th></th>\n",
       "      <th>No</th>\n",
       "      <th>year</th>\n",
       "      <th>month</th>\n",
       "      <th>day</th>\n",
       "      <th>hour</th>\n",
       "      <th>PM2.5</th>\n",
       "      <th>PM10</th>\n",
       "      <th>SO2</th>\n",
       "      <th>NO2</th>\n",
       "      <th>CO</th>\n",
       "      <th>O3</th>\n",
       "      <th>TEMP</th>\n",
       "      <th>PRES</th>\n",
       "      <th>DEWP</th>\n",
       "      <th>RAIN</th>\n",
       "      <th>wd</th>\n",
       "      <th>WSPM</th>\n",
       "    </tr>\n",
       "  </thead>\n",
       "  <tbody>\n",
       "    <tr>\n",
       "      <th>0</th>\n",
       "      <td>1</td>\n",
       "      <td>2013</td>\n",
       "      <td>3</td>\n",
       "      <td>1</td>\n",
       "      <td>0</td>\n",
       "      <td>4.0</td>\n",
       "      <td>4.0</td>\n",
       "      <td>4.0</td>\n",
       "      <td>7.0</td>\n",
       "      <td>300.0</td>\n",
       "      <td>77.0</td>\n",
       "      <td>-0.7</td>\n",
       "      <td>1023.0</td>\n",
       "      <td>-18.8</td>\n",
       "      <td>0.0</td>\n",
       "      <td>NNW</td>\n",
       "      <td>4.4</td>\n",
       "    </tr>\n",
       "    <tr>\n",
       "      <th>1</th>\n",
       "      <td>2</td>\n",
       "      <td>2013</td>\n",
       "      <td>3</td>\n",
       "      <td>1</td>\n",
       "      <td>1</td>\n",
       "      <td>8.0</td>\n",
       "      <td>8.0</td>\n",
       "      <td>4.0</td>\n",
       "      <td>7.0</td>\n",
       "      <td>300.0</td>\n",
       "      <td>77.0</td>\n",
       "      <td>-1.1</td>\n",
       "      <td>1023.2</td>\n",
       "      <td>-18.2</td>\n",
       "      <td>0.0</td>\n",
       "      <td>N</td>\n",
       "      <td>4.7</td>\n",
       "    </tr>\n",
       "    <tr>\n",
       "      <th>2</th>\n",
       "      <td>3</td>\n",
       "      <td>2013</td>\n",
       "      <td>3</td>\n",
       "      <td>1</td>\n",
       "      <td>2</td>\n",
       "      <td>7.0</td>\n",
       "      <td>7.0</td>\n",
       "      <td>5.0</td>\n",
       "      <td>10.0</td>\n",
       "      <td>300.0</td>\n",
       "      <td>73.0</td>\n",
       "      <td>-1.1</td>\n",
       "      <td>1023.5</td>\n",
       "      <td>-18.2</td>\n",
       "      <td>0.0</td>\n",
       "      <td>NNW</td>\n",
       "      <td>5.6</td>\n",
       "    </tr>\n",
       "    <tr>\n",
       "      <th>3</th>\n",
       "      <td>4</td>\n",
       "      <td>2013</td>\n",
       "      <td>3</td>\n",
       "      <td>1</td>\n",
       "      <td>3</td>\n",
       "      <td>6.0</td>\n",
       "      <td>6.0</td>\n",
       "      <td>11.0</td>\n",
       "      <td>11.0</td>\n",
       "      <td>300.0</td>\n",
       "      <td>72.0</td>\n",
       "      <td>-1.4</td>\n",
       "      <td>1024.5</td>\n",
       "      <td>-19.4</td>\n",
       "      <td>0.0</td>\n",
       "      <td>NW</td>\n",
       "      <td>3.1</td>\n",
       "    </tr>\n",
       "    <tr>\n",
       "      <th>4</th>\n",
       "      <td>5</td>\n",
       "      <td>2013</td>\n",
       "      <td>3</td>\n",
       "      <td>1</td>\n",
       "      <td>4</td>\n",
       "      <td>3.0</td>\n",
       "      <td>3.0</td>\n",
       "      <td>12.0</td>\n",
       "      <td>12.0</td>\n",
       "      <td>300.0</td>\n",
       "      <td>72.0</td>\n",
       "      <td>-2.0</td>\n",
       "      <td>1025.2</td>\n",
       "      <td>-19.5</td>\n",
       "      <td>0.0</td>\n",
       "      <td>N</td>\n",
       "      <td>2.0</td>\n",
       "    </tr>\n",
       "  </tbody>\n",
       "</table>\n",
       "</div>"
      ],
      "text/plain": [
       "   No  year  month  day  hour  PM2.5  PM10   SO2   NO2     CO    O3  TEMP  \\\n",
       "0   1  2013      3    1     0    4.0   4.0   4.0   7.0  300.0  77.0  -0.7   \n",
       "1   2  2013      3    1     1    8.0   8.0   4.0   7.0  300.0  77.0  -1.1   \n",
       "2   3  2013      3    1     2    7.0   7.0   5.0  10.0  300.0  73.0  -1.1   \n",
       "3   4  2013      3    1     3    6.0   6.0  11.0  11.0  300.0  72.0  -1.4   \n",
       "4   5  2013      3    1     4    3.0   3.0  12.0  12.0  300.0  72.0  -2.0   \n",
       "\n",
       "     PRES  DEWP  RAIN   wd  WSPM  \n",
       "0  1023.0 -18.8   0.0  NNW   4.4  \n",
       "1  1023.2 -18.2   0.0    N   4.7  \n",
       "2  1023.5 -18.2   0.0  NNW   5.6  \n",
       "3  1024.5 -19.4   0.0   NW   3.1  \n",
       "4  1025.2 -19.5   0.0    N   2.0  "
      ]
     },
     "execution_count": 176,
     "metadata": {},
     "output_type": "execute_result"
    }
   ],
   "source": [
    "df.head()"
   ]
  },
  {
   "cell_type": "markdown",
   "id": "0305c525-850d-4d77-914b-51f369f60cd3",
   "metadata": {},
   "source": [
    "Index built into the dataset is not necessary for classification. Dropped column and reset index. \n",
    "Feature engineering application to date columns. \n",
    "Also, dropped date-related columns to remove redundancy. "
   ]
  },
  {
   "cell_type": "code",
   "execution_count": 177,
   "id": "5d26a31a-5ba1-40e6-9ed5-1168df197b2f",
   "metadata": {},
   "outputs": [],
   "source": [
    "df.drop(columns=['No'], inplace=True)\n",
    "df.reset_index(drop=True, inplace=True)"
   ]
  },
  {
   "cell_type": "code",
   "execution_count": 178,
   "id": "c8763b2e-1c7c-4fa5-8e73-ccd3f152bfce",
   "metadata": {},
   "outputs": [
    {
     "data": {
      "text/html": [
       "<div>\n",
       "<style scoped>\n",
       "    .dataframe tbody tr th:only-of-type {\n",
       "        vertical-align: middle;\n",
       "    }\n",
       "\n",
       "    .dataframe tbody tr th {\n",
       "        vertical-align: top;\n",
       "    }\n",
       "\n",
       "    .dataframe thead th {\n",
       "        text-align: right;\n",
       "    }\n",
       "</style>\n",
       "<table border=\"1\" class=\"dataframe\">\n",
       "  <thead>\n",
       "    <tr style=\"text-align: right;\">\n",
       "      <th></th>\n",
       "      <th>year</th>\n",
       "      <th>month</th>\n",
       "      <th>day</th>\n",
       "      <th>hour</th>\n",
       "      <th>PM2.5</th>\n",
       "      <th>PM10</th>\n",
       "      <th>SO2</th>\n",
       "      <th>NO2</th>\n",
       "      <th>CO</th>\n",
       "      <th>O3</th>\n",
       "      <th>TEMP</th>\n",
       "      <th>PRES</th>\n",
       "      <th>DEWP</th>\n",
       "      <th>RAIN</th>\n",
       "      <th>wd</th>\n",
       "      <th>WSPM</th>\n",
       "    </tr>\n",
       "  </thead>\n",
       "  <tbody>\n",
       "    <tr>\n",
       "      <th>0</th>\n",
       "      <td>2013</td>\n",
       "      <td>3</td>\n",
       "      <td>1</td>\n",
       "      <td>0</td>\n",
       "      <td>4.0</td>\n",
       "      <td>4.0</td>\n",
       "      <td>4.0</td>\n",
       "      <td>7.0</td>\n",
       "      <td>300.0</td>\n",
       "      <td>77.0</td>\n",
       "      <td>-0.7</td>\n",
       "      <td>1023.0</td>\n",
       "      <td>-18.8</td>\n",
       "      <td>0.0</td>\n",
       "      <td>NNW</td>\n",
       "      <td>4.4</td>\n",
       "    </tr>\n",
       "    <tr>\n",
       "      <th>1</th>\n",
       "      <td>2013</td>\n",
       "      <td>3</td>\n",
       "      <td>1</td>\n",
       "      <td>1</td>\n",
       "      <td>8.0</td>\n",
       "      <td>8.0</td>\n",
       "      <td>4.0</td>\n",
       "      <td>7.0</td>\n",
       "      <td>300.0</td>\n",
       "      <td>77.0</td>\n",
       "      <td>-1.1</td>\n",
       "      <td>1023.2</td>\n",
       "      <td>-18.2</td>\n",
       "      <td>0.0</td>\n",
       "      <td>N</td>\n",
       "      <td>4.7</td>\n",
       "    </tr>\n",
       "    <tr>\n",
       "      <th>2</th>\n",
       "      <td>2013</td>\n",
       "      <td>3</td>\n",
       "      <td>1</td>\n",
       "      <td>2</td>\n",
       "      <td>7.0</td>\n",
       "      <td>7.0</td>\n",
       "      <td>5.0</td>\n",
       "      <td>10.0</td>\n",
       "      <td>300.0</td>\n",
       "      <td>73.0</td>\n",
       "      <td>-1.1</td>\n",
       "      <td>1023.5</td>\n",
       "      <td>-18.2</td>\n",
       "      <td>0.0</td>\n",
       "      <td>NNW</td>\n",
       "      <td>5.6</td>\n",
       "    </tr>\n",
       "    <tr>\n",
       "      <th>3</th>\n",
       "      <td>2013</td>\n",
       "      <td>3</td>\n",
       "      <td>1</td>\n",
       "      <td>3</td>\n",
       "      <td>6.0</td>\n",
       "      <td>6.0</td>\n",
       "      <td>11.0</td>\n",
       "      <td>11.0</td>\n",
       "      <td>300.0</td>\n",
       "      <td>72.0</td>\n",
       "      <td>-1.4</td>\n",
       "      <td>1024.5</td>\n",
       "      <td>-19.4</td>\n",
       "      <td>0.0</td>\n",
       "      <td>NW</td>\n",
       "      <td>3.1</td>\n",
       "    </tr>\n",
       "    <tr>\n",
       "      <th>4</th>\n",
       "      <td>2013</td>\n",
       "      <td>3</td>\n",
       "      <td>1</td>\n",
       "      <td>4</td>\n",
       "      <td>3.0</td>\n",
       "      <td>3.0</td>\n",
       "      <td>12.0</td>\n",
       "      <td>12.0</td>\n",
       "      <td>300.0</td>\n",
       "      <td>72.0</td>\n",
       "      <td>-2.0</td>\n",
       "      <td>1025.2</td>\n",
       "      <td>-19.5</td>\n",
       "      <td>0.0</td>\n",
       "      <td>N</td>\n",
       "      <td>2.0</td>\n",
       "    </tr>\n",
       "  </tbody>\n",
       "</table>\n",
       "</div>"
      ],
      "text/plain": [
       "   year  month  day  hour  PM2.5  PM10   SO2   NO2     CO    O3  TEMP    PRES  \\\n",
       "0  2013      3    1     0    4.0   4.0   4.0   7.0  300.0  77.0  -0.7  1023.0   \n",
       "1  2013      3    1     1    8.0   8.0   4.0   7.0  300.0  77.0  -1.1  1023.2   \n",
       "2  2013      3    1     2    7.0   7.0   5.0  10.0  300.0  73.0  -1.1  1023.5   \n",
       "3  2013      3    1     3    6.0   6.0  11.0  11.0  300.0  72.0  -1.4  1024.5   \n",
       "4  2013      3    1     4    3.0   3.0  12.0  12.0  300.0  72.0  -2.0  1025.2   \n",
       "\n",
       "   DEWP  RAIN   wd  WSPM  \n",
       "0 -18.8   0.0  NNW   4.4  \n",
       "1 -18.2   0.0    N   4.7  \n",
       "2 -18.2   0.0  NNW   5.6  \n",
       "3 -19.4   0.0   NW   3.1  \n",
       "4 -19.5   0.0    N   2.0  "
      ]
     },
     "execution_count": 178,
     "metadata": {},
     "output_type": "execute_result"
    }
   ],
   "source": [
    "df.head()"
   ]
  },
  {
   "cell_type": "code",
   "execution_count": 179,
   "id": "a4d39759-13b6-472a-b024-017e265bbb6d",
   "metadata": {},
   "outputs": [
    {
     "data": {
      "text/plain": [
       "year       int64\n",
       "month      int64\n",
       "day        int64\n",
       "hour       int64\n",
       "PM2.5    float64\n",
       "PM10     float64\n",
       "SO2      float64\n",
       "NO2      float64\n",
       "CO       float64\n",
       "O3       float64\n",
       "TEMP     float64\n",
       "PRES     float64\n",
       "DEWP     float64\n",
       "RAIN     float64\n",
       "wd        object\n",
       "WSPM     float64\n",
       "dtype: object"
      ]
     },
     "execution_count": 179,
     "metadata": {},
     "output_type": "execute_result"
    }
   ],
   "source": [
    "df.dtypes"
   ]
  },
  {
   "cell_type": "markdown",
   "id": "bfa611a1-a11e-414d-a0bb-a171ac7c6d20",
   "metadata": {},
   "source": [
    "### Converted categorical variables to numerical variables for corr()"
   ]
  },
  {
   "cell_type": "code",
   "execution_count": 119,
   "id": "a8ad86ad-f3de-46ad-a6b4-216b54dc0606",
   "metadata": {},
   "outputs": [],
   "source": [
    "encoder = OneHotEncoder(sparse_output=False, handle_unknown='ignore')"
   ]
  },
  {
   "cell_type": "code",
   "execution_count": 120,
   "id": "85625e9d-3ba7-4772-890d-ac760dc7e747",
   "metadata": {},
   "outputs": [],
   "source": [
    "wd_encoded = encoder.fit_transform(df[['wd']])  # Encode the 'wd' column\n",
    "wd_labels = encoder.get_feature_names_out(['wd'])  # Get transformed column names\n",
    "\n",
    "df_encoded = pd.DataFrame(wd_encoded, columns=wd_labels)  # Convert to DataFrame"
   ]
  },
  {
   "cell_type": "code",
   "execution_count": 121,
   "id": "bf9ea65d-8c4e-4ec7-824f-998199665a97",
   "metadata": {},
   "outputs": [],
   "source": [
    "df = df.drop(columns=['wd'])  # Drop original categorical column\n",
    "df = pd.concat([df, df_encoded], axis=1)  # Merge encoded columns"
   ]
  },
  {
   "cell_type": "code",
   "execution_count": 122,
   "id": "a41adfd7-3900-4589-9292-ca21fee6d113",
   "metadata": {},
   "outputs": [
    {
     "data": {
      "text/html": [
       "<div>\n",
       "<style scoped>\n",
       "    .dataframe tbody tr th:only-of-type {\n",
       "        vertical-align: middle;\n",
       "    }\n",
       "\n",
       "    .dataframe tbody tr th {\n",
       "        vertical-align: top;\n",
       "    }\n",
       "\n",
       "    .dataframe thead th {\n",
       "        text-align: right;\n",
       "    }\n",
       "</style>\n",
       "<table border=\"1\" class=\"dataframe\">\n",
       "  <thead>\n",
       "    <tr style=\"text-align: right;\">\n",
       "      <th></th>\n",
       "      <th>year</th>\n",
       "      <th>month</th>\n",
       "      <th>day</th>\n",
       "      <th>hour</th>\n",
       "      <th>PM2.5</th>\n",
       "      <th>PM10</th>\n",
       "      <th>SO2</th>\n",
       "      <th>NO2</th>\n",
       "      <th>CO</th>\n",
       "      <th>O3</th>\n",
       "      <th>...</th>\n",
       "      <th>wd_NNW</th>\n",
       "      <th>wd_NW</th>\n",
       "      <th>wd_S</th>\n",
       "      <th>wd_SE</th>\n",
       "      <th>wd_SSE</th>\n",
       "      <th>wd_SSW</th>\n",
       "      <th>wd_SW</th>\n",
       "      <th>wd_W</th>\n",
       "      <th>wd_WNW</th>\n",
       "      <th>wd_WSW</th>\n",
       "    </tr>\n",
       "  </thead>\n",
       "  <tbody>\n",
       "    <tr>\n",
       "      <th>0</th>\n",
       "      <td>2013</td>\n",
       "      <td>3</td>\n",
       "      <td>1</td>\n",
       "      <td>0</td>\n",
       "      <td>4.0</td>\n",
       "      <td>4.0</td>\n",
       "      <td>4.0</td>\n",
       "      <td>7.0</td>\n",
       "      <td>300.0</td>\n",
       "      <td>77.0</td>\n",
       "      <td>...</td>\n",
       "      <td>1.0</td>\n",
       "      <td>0.0</td>\n",
       "      <td>0.0</td>\n",
       "      <td>0.0</td>\n",
       "      <td>0.0</td>\n",
       "      <td>0.0</td>\n",
       "      <td>0.0</td>\n",
       "      <td>0.0</td>\n",
       "      <td>0.0</td>\n",
       "      <td>0.0</td>\n",
       "    </tr>\n",
       "    <tr>\n",
       "      <th>1</th>\n",
       "      <td>2013</td>\n",
       "      <td>3</td>\n",
       "      <td>1</td>\n",
       "      <td>1</td>\n",
       "      <td>8.0</td>\n",
       "      <td>8.0</td>\n",
       "      <td>4.0</td>\n",
       "      <td>7.0</td>\n",
       "      <td>300.0</td>\n",
       "      <td>77.0</td>\n",
       "      <td>...</td>\n",
       "      <td>0.0</td>\n",
       "      <td>0.0</td>\n",
       "      <td>0.0</td>\n",
       "      <td>0.0</td>\n",
       "      <td>0.0</td>\n",
       "      <td>0.0</td>\n",
       "      <td>0.0</td>\n",
       "      <td>0.0</td>\n",
       "      <td>0.0</td>\n",
       "      <td>0.0</td>\n",
       "    </tr>\n",
       "    <tr>\n",
       "      <th>2</th>\n",
       "      <td>2013</td>\n",
       "      <td>3</td>\n",
       "      <td>1</td>\n",
       "      <td>2</td>\n",
       "      <td>7.0</td>\n",
       "      <td>7.0</td>\n",
       "      <td>5.0</td>\n",
       "      <td>10.0</td>\n",
       "      <td>300.0</td>\n",
       "      <td>73.0</td>\n",
       "      <td>...</td>\n",
       "      <td>1.0</td>\n",
       "      <td>0.0</td>\n",
       "      <td>0.0</td>\n",
       "      <td>0.0</td>\n",
       "      <td>0.0</td>\n",
       "      <td>0.0</td>\n",
       "      <td>0.0</td>\n",
       "      <td>0.0</td>\n",
       "      <td>0.0</td>\n",
       "      <td>0.0</td>\n",
       "    </tr>\n",
       "    <tr>\n",
       "      <th>3</th>\n",
       "      <td>2013</td>\n",
       "      <td>3</td>\n",
       "      <td>1</td>\n",
       "      <td>3</td>\n",
       "      <td>6.0</td>\n",
       "      <td>6.0</td>\n",
       "      <td>11.0</td>\n",
       "      <td>11.0</td>\n",
       "      <td>300.0</td>\n",
       "      <td>72.0</td>\n",
       "      <td>...</td>\n",
       "      <td>0.0</td>\n",
       "      <td>1.0</td>\n",
       "      <td>0.0</td>\n",
       "      <td>0.0</td>\n",
       "      <td>0.0</td>\n",
       "      <td>0.0</td>\n",
       "      <td>0.0</td>\n",
       "      <td>0.0</td>\n",
       "      <td>0.0</td>\n",
       "      <td>0.0</td>\n",
       "    </tr>\n",
       "    <tr>\n",
       "      <th>4</th>\n",
       "      <td>2013</td>\n",
       "      <td>3</td>\n",
       "      <td>1</td>\n",
       "      <td>4</td>\n",
       "      <td>3.0</td>\n",
       "      <td>3.0</td>\n",
       "      <td>12.0</td>\n",
       "      <td>12.0</td>\n",
       "      <td>300.0</td>\n",
       "      <td>72.0</td>\n",
       "      <td>...</td>\n",
       "      <td>0.0</td>\n",
       "      <td>0.0</td>\n",
       "      <td>0.0</td>\n",
       "      <td>0.0</td>\n",
       "      <td>0.0</td>\n",
       "      <td>0.0</td>\n",
       "      <td>0.0</td>\n",
       "      <td>0.0</td>\n",
       "      <td>0.0</td>\n",
       "      <td>0.0</td>\n",
       "    </tr>\n",
       "  </tbody>\n",
       "</table>\n",
       "<p>5 rows × 31 columns</p>\n",
       "</div>"
      ],
      "text/plain": [
       "   year  month  day  hour  PM2.5  PM10   SO2   NO2     CO    O3  ...  wd_NNW  \\\n",
       "0  2013      3    1     0    4.0   4.0   4.0   7.0  300.0  77.0  ...     1.0   \n",
       "1  2013      3    1     1    8.0   8.0   4.0   7.0  300.0  77.0  ...     0.0   \n",
       "2  2013      3    1     2    7.0   7.0   5.0  10.0  300.0  73.0  ...     1.0   \n",
       "3  2013      3    1     3    6.0   6.0  11.0  11.0  300.0  72.0  ...     0.0   \n",
       "4  2013      3    1     4    3.0   3.0  12.0  12.0  300.0  72.0  ...     0.0   \n",
       "\n",
       "   wd_NW  wd_S  wd_SE  wd_SSE  wd_SSW  wd_SW  wd_W  wd_WNW  wd_WSW  \n",
       "0    0.0   0.0    0.0     0.0     0.0    0.0   0.0     0.0     0.0  \n",
       "1    0.0   0.0    0.0     0.0     0.0    0.0   0.0     0.0     0.0  \n",
       "2    0.0   0.0    0.0     0.0     0.0    0.0   0.0     0.0     0.0  \n",
       "3    1.0   0.0    0.0     0.0     0.0    0.0   0.0     0.0     0.0  \n",
       "4    0.0   0.0    0.0     0.0     0.0    0.0   0.0     0.0     0.0  \n",
       "\n",
       "[5 rows x 31 columns]"
      ]
     },
     "execution_count": 122,
     "metadata": {},
     "output_type": "execute_result"
    }
   ],
   "source": [
    "df.head()"
   ]
  },
  {
   "cell_type": "markdown",
   "id": "27f9510d-7de4-4b92-a3d9-1391a2275802",
   "metadata": {},
   "source": [
    "### Below, we can observe features with high correlation to PM2.5"
   ]
  },
  {
   "cell_type": "markdown",
   "id": "b59c72e1-2cd0-4abb-80e2-93a5b3d3e1a0",
   "metadata": {},
   "source": [
    "### When testing a df copy for correlation, WSPM seems to be the highest correlation with WD. \n",
    "WSPM also has a really high negative correlation with NO2 so there may be an indirect relationship between the 3. "
   ]
  },
  {
   "cell_type": "markdown",
   "id": "2f445d2d-8ec0-4570-b741-a6ce59a7ee08",
   "metadata": {},
   "source": [
    "# Train Test Split"
   ]
  },
  {
   "cell_type": "code",
   "execution_count": 123,
   "id": "5d1e41d6-a5a4-4442-bb9b-924befbfc810",
   "metadata": {},
   "outputs": [],
   "source": [
    "X = df.drop(columns=wd_labels)  # Features\n",
    "y = df[wd_labels]  # One-hot encoded labels\n",
    "\n",
    "#Split the data into training and test data\n",
    "X_train, X_test, y_train, y_test = train_test_split(X, y, test_size=0.2, random_state = 1)"
   ]
  },
  {
   "cell_type": "code",
   "execution_count": 124,
   "id": "f46af327-eca7-4f6d-9d59-17abecd00fab",
   "metadata": {},
   "outputs": [
    {
     "name": "stdout",
     "output_type": "stream",
     "text": [
      "[1.]\n"
     ]
    }
   ],
   "source": [
    "print(y_train.sum(axis=1).unique())  # Should always be exactly `1`"
   ]
  },
  {
   "cell_type": "markdown",
   "id": "c2330d78-87c7-4eda-bc49-dfdc1abc8770",
   "metadata": {},
   "source": [
    "# Normalize Data\n",
    "This is done after the split to prevent data leakage"
   ]
  },
  {
   "cell_type": "code",
   "execution_count": 125,
   "id": "4ea54fa3-7cb7-4e40-b94e-312be7702a43",
   "metadata": {},
   "outputs": [],
   "source": [
    "scaler = MinMaxScaler()\n",
    "X_train= scaler.fit_transform(X_train)\n",
    "X_test = scaler.transform(X_test)"
   ]
  },
  {
   "cell_type": "code",
   "execution_count": 126,
   "id": "0d51962c-b755-4685-ba10-b3cf646cc223",
   "metadata": {},
   "outputs": [
    {
     "name": "stdout",
     "output_type": "stream",
     "text": [
      "Min: 0.0, Max: 1.0000000000000002\n"
     ]
    }
   ],
   "source": [
    "print(f'Min: {X_train.min()}, Max: {X_train.max()}')"
   ]
  },
  {
   "cell_type": "markdown",
   "id": "188c759d-1208-4695-95dd-db951881bdc7",
   "metadata": {},
   "source": [
    "The above pulls minimum and maximum values that help us ensure that values scale down correctly to between 0 and 1. "
   ]
  },
  {
   "cell_type": "code",
   "execution_count": 127,
   "id": "6a270cac-e25d-4cda-af6d-da4ea2b7a7b8",
   "metadata": {},
   "outputs": [
    {
     "data": {
      "text/plain": [
       "(25452, 15)"
      ]
     },
     "execution_count": 127,
     "metadata": {},
     "output_type": "execute_result"
    }
   ],
   "source": [
    "X_train.shape"
   ]
  },
  {
   "cell_type": "markdown",
   "id": "c5111aa7-bcb0-454f-80a0-346d2b4ae60b",
   "metadata": {},
   "source": [
    "Checked input value for first layer"
   ]
  },
  {
   "cell_type": "code",
   "execution_count": 128,
   "id": "09fd64ca-4d5c-4175-bd2b-b94c04d22f39",
   "metadata": {},
   "outputs": [
    {
     "data": {
      "text/plain": [
       "(25452, 16)"
      ]
     },
     "execution_count": 128,
     "metadata": {},
     "output_type": "execute_result"
    }
   ],
   "source": [
    "y_train.shape"
   ]
  },
  {
   "cell_type": "markdown",
   "id": "fd37a8ef-656e-4e5b-b500-77ddaffb419f",
   "metadata": {},
   "source": [
    "Checked label count to verify loss. Since we're over 10, we use categorical_crossentropy."
   ]
  },
  {
   "cell_type": "markdown",
   "id": "ddc51d16-e928-4d17-ba75-5316dbf3cfc9",
   "metadata": {},
   "source": [
    "As shown above, after encoding, we are returning some label values with 0's which is completely destroying the model.\n",
    "*Note:* This is no longer displayed above, as the results no longer err after resolving the issue. It seems get_dummies() was removing 1 of 16 labels. Switching to OneHotEncoder resolved this. "
   ]
  },
  {
   "cell_type": "markdown",
   "id": "c2883116-b7c7-480b-944f-02cd5c68f162",
   "metadata": {},
   "source": [
    "# TensorFlow"
   ]
  },
  {
   "cell_type": "code",
   "execution_count": 23,
   "id": "ba2157fa-3b2b-48a4-98b4-f115c1d3d513",
   "metadata": {},
   "outputs": [],
   "source": [
    "tf_model = keras.Sequential()\n",
    "tf_model.add(layers.Dense(15, activation='relu')) # per feedback from last weeks assignment, first layer begins with the same neurons as features\n",
    "tf_model.add(layers.Dense(20, activation='relu')) # first hidden layer with 20 neurons, per requirements of the assignment\n",
    "tf_model.add(layers.Dense(10, activation='relu')) # second hidden layer with 10 neurons, as above\n",
    "tf_model.add(layers.Dense(16, activation='softmax')) # final layer to match the number of labels for prediction\n",
    "\n",
    "tf_model.compile(optimizer='adam',loss='categorical_crossentropy', metrics=['accuracy'])"
   ]
  },
  {
   "cell_type": "code",
   "execution_count": 24,
   "id": "4c3f0a09-bb58-4c19-9fef-a0266cb5d468",
   "metadata": {},
   "outputs": [
    {
     "name": "stdout",
     "output_type": "stream",
     "text": [
      "Epoch 1/100\n",
      "796/796 [==============================] - 2s 2ms/step - loss: 2.6168 - accuracy: 0.1630 - val_loss: 2.5056 - val_accuracy: 0.1993\n",
      "Epoch 2/100\n",
      "796/796 [==============================] - 2s 2ms/step - loss: 2.4694 - accuracy: 0.1967 - val_loss: 2.4236 - val_accuracy: 0.2070\n",
      "Epoch 3/100\n",
      "796/796 [==============================] - 2s 2ms/step - loss: 2.4114 - accuracy: 0.2047 - val_loss: 2.3862 - val_accuracy: 0.2098\n",
      "Epoch 4/100\n",
      "796/796 [==============================] - 2s 2ms/step - loss: 2.3831 - accuracy: 0.2106 - val_loss: 2.3657 - val_accuracy: 0.2150\n",
      "Epoch 5/100\n",
      "796/796 [==============================] - 2s 3ms/step - loss: 2.3657 - accuracy: 0.2159 - val_loss: 2.3571 - val_accuracy: 0.2169\n",
      "Epoch 6/100\n",
      "796/796 [==============================] - 2s 3ms/step - loss: 2.3529 - accuracy: 0.2194 - val_loss: 2.3419 - val_accuracy: 0.2232\n",
      "Epoch 7/100\n",
      "796/796 [==============================] - 2s 3ms/step - loss: 2.3433 - accuracy: 0.2209 - val_loss: 2.3328 - val_accuracy: 0.2229\n",
      "Epoch 8/100\n",
      "796/796 [==============================] - 17s 21ms/step - loss: 2.3344 - accuracy: 0.2206 - val_loss: 2.3290 - val_accuracy: 0.2279\n",
      "Epoch 9/100\n",
      "796/796 [==============================] - 4s 5ms/step - loss: 2.3290 - accuracy: 0.2262 - val_loss: 2.3257 - val_accuracy: 0.2280\n",
      "Epoch 10/100\n",
      "796/796 [==============================] - 36s 46ms/step - loss: 2.3224 - accuracy: 0.2285 - val_loss: 2.3163 - val_accuracy: 0.2274\n",
      "Epoch 11/100\n",
      "796/796 [==============================] - 37s 46ms/step - loss: 2.3160 - accuracy: 0.2287 - val_loss: 2.3156 - val_accuracy: 0.2307\n",
      "Epoch 12/100\n",
      "796/796 [==============================] - 28s 35ms/step - loss: 2.3107 - accuracy: 0.2298 - val_loss: 2.3075 - val_accuracy: 0.2321\n",
      "Epoch 13/100\n",
      "796/796 [==============================] - 2s 3ms/step - loss: 2.3054 - accuracy: 0.2331 - val_loss: 2.3022 - val_accuracy: 0.2337\n",
      "Epoch 14/100\n",
      "796/796 [==============================] - 3s 3ms/step - loss: 2.3023 - accuracy: 0.2329 - val_loss: 2.2978 - val_accuracy: 0.2315\n",
      "Epoch 15/100\n",
      "796/796 [==============================] - 2s 3ms/step - loss: 2.2983 - accuracy: 0.2356 - val_loss: 2.2961 - val_accuracy: 0.2357\n",
      "Epoch 16/100\n",
      "796/796 [==============================] - 36s 46ms/step - loss: 2.2941 - accuracy: 0.2353 - val_loss: 2.2897 - val_accuracy: 0.2405\n",
      "Epoch 17/100\n",
      "796/796 [==============================] - 36s 46ms/step - loss: 2.2919 - accuracy: 0.2365 - val_loss: 2.2879 - val_accuracy: 0.2389\n",
      "Epoch 18/100\n",
      "796/796 [==============================] - 14s 17ms/step - loss: 2.2882 - accuracy: 0.2387 - val_loss: 2.2830 - val_accuracy: 0.2386\n",
      "Epoch 19/100\n",
      "796/796 [==============================] - 2s 2ms/step - loss: 2.2843 - accuracy: 0.2381 - val_loss: 2.2841 - val_accuracy: 0.2378\n",
      "Epoch 20/100\n",
      "796/796 [==============================] - 2s 3ms/step - loss: 2.2831 - accuracy: 0.2380 - val_loss: 2.2806 - val_accuracy: 0.2405\n",
      "Epoch 21/100\n",
      "796/796 [==============================] - 2s 3ms/step - loss: 2.2801 - accuracy: 0.2396 - val_loss: 2.2757 - val_accuracy: 0.2425\n",
      "Epoch 22/100\n",
      "796/796 [==============================] - 2s 3ms/step - loss: 2.2768 - accuracy: 0.2406 - val_loss: 2.2818 - val_accuracy: 0.2389\n",
      "Epoch 23/100\n",
      "796/796 [==============================] - 2s 3ms/step - loss: 2.2749 - accuracy: 0.2408 - val_loss: 2.2717 - val_accuracy: 0.2456\n",
      "Epoch 24/100\n",
      "796/796 [==============================] - 2s 3ms/step - loss: 2.2722 - accuracy: 0.2425 - val_loss: 2.2774 - val_accuracy: 0.2427\n",
      "Epoch 25/100\n",
      "796/796 [==============================] - 2s 3ms/step - loss: 2.2694 - accuracy: 0.2431 - val_loss: 2.2736 - val_accuracy: 0.2427\n",
      "Epoch 26/100\n",
      "796/796 [==============================] - 2s 3ms/step - loss: 2.2681 - accuracy: 0.2421 - val_loss: 2.2692 - val_accuracy: 0.2439\n",
      "Epoch 27/100\n",
      "796/796 [==============================] - 2s 3ms/step - loss: 2.2661 - accuracy: 0.2451 - val_loss: 2.2687 - val_accuracy: 0.2423\n",
      "Epoch 28/100\n",
      "796/796 [==============================] - 2s 3ms/step - loss: 2.2639 - accuracy: 0.2447 - val_loss: 2.2748 - val_accuracy: 0.2431\n",
      "Epoch 29/100\n",
      "796/796 [==============================] - 2s 3ms/step - loss: 2.2620 - accuracy: 0.2438 - val_loss: 2.2649 - val_accuracy: 0.2423\n",
      "Epoch 30/100\n",
      "796/796 [==============================] - 2s 3ms/step - loss: 2.2593 - accuracy: 0.2461 - val_loss: 2.2693 - val_accuracy: 0.2398\n",
      "Epoch 31/100\n",
      "796/796 [==============================] - 2s 3ms/step - loss: 2.2572 - accuracy: 0.2456 - val_loss: 2.2659 - val_accuracy: 0.2414\n",
      "Epoch 32/100\n",
      "796/796 [==============================] - 2s 3ms/step - loss: 2.2555 - accuracy: 0.2479 - val_loss: 2.2613 - val_accuracy: 0.2428\n",
      "Epoch 33/100\n",
      "796/796 [==============================] - 2s 3ms/step - loss: 2.2523 - accuracy: 0.2484 - val_loss: 2.2572 - val_accuracy: 0.2464\n",
      "Epoch 34/100\n",
      "796/796 [==============================] - 2s 3ms/step - loss: 2.2499 - accuracy: 0.2468 - val_loss: 2.2638 - val_accuracy: 0.2370\n",
      "Epoch 35/100\n",
      "796/796 [==============================] - 2s 3ms/step - loss: 2.2491 - accuracy: 0.2474 - val_loss: 2.2596 - val_accuracy: 0.2397\n",
      "Epoch 36/100\n",
      "796/796 [==============================] - 2s 2ms/step - loss: 2.2476 - accuracy: 0.2472 - val_loss: 2.2536 - val_accuracy: 0.2423\n",
      "Epoch 37/100\n",
      "796/796 [==============================] - 2s 3ms/step - loss: 2.2449 - accuracy: 0.2495 - val_loss: 2.2605 - val_accuracy: 0.2372\n",
      "Epoch 38/100\n",
      "796/796 [==============================] - 2s 3ms/step - loss: 2.2433 - accuracy: 0.2476 - val_loss: 2.2580 - val_accuracy: 0.2408\n",
      "Epoch 39/100\n",
      "796/796 [==============================] - 2s 3ms/step - loss: 2.2409 - accuracy: 0.2513 - val_loss: 2.2542 - val_accuracy: 0.2376\n",
      "Epoch 40/100\n",
      "796/796 [==============================] - 2s 3ms/step - loss: 2.2407 - accuracy: 0.2496 - val_loss: 2.2485 - val_accuracy: 0.2403\n",
      "Epoch 41/100\n",
      "796/796 [==============================] - 2s 3ms/step - loss: 2.2387 - accuracy: 0.2508 - val_loss: 2.2481 - val_accuracy: 0.2390\n",
      "Epoch 42/100\n",
      "796/796 [==============================] - 2s 3ms/step - loss: 2.2374 - accuracy: 0.2508 - val_loss: 2.2481 - val_accuracy: 0.2450\n",
      "Epoch 43/100\n",
      "796/796 [==============================] - 2s 3ms/step - loss: 2.2361 - accuracy: 0.2500 - val_loss: 2.2517 - val_accuracy: 0.2431\n",
      "Epoch 44/100\n",
      "796/796 [==============================] - 2s 3ms/step - loss: 2.2345 - accuracy: 0.2513 - val_loss: 2.2490 - val_accuracy: 0.2401\n",
      "Epoch 45/100\n",
      "796/796 [==============================] - 2s 3ms/step - loss: 2.2328 - accuracy: 0.2489 - val_loss: 2.2464 - val_accuracy: 0.2428\n",
      "Epoch 46/100\n",
      "796/796 [==============================] - 2s 3ms/step - loss: 2.2321 - accuracy: 0.2505 - val_loss: 2.2498 - val_accuracy: 0.2438\n",
      "Epoch 47/100\n",
      "796/796 [==============================] - 2s 3ms/step - loss: 2.2300 - accuracy: 0.2513 - val_loss: 2.2436 - val_accuracy: 0.2428\n",
      "Epoch 48/100\n",
      "796/796 [==============================] - 2s 3ms/step - loss: 2.2291 - accuracy: 0.2521 - val_loss: 2.2415 - val_accuracy: 0.2431\n",
      "Epoch 49/100\n",
      "796/796 [==============================] - 2s 3ms/step - loss: 2.2289 - accuracy: 0.2514 - val_loss: 2.2546 - val_accuracy: 0.2419\n",
      "Epoch 50/100\n",
      "796/796 [==============================] - 2s 3ms/step - loss: 2.2263 - accuracy: 0.2516 - val_loss: 2.2576 - val_accuracy: 0.2397\n",
      "Epoch 51/100\n",
      "796/796 [==============================] - 2s 3ms/step - loss: 2.2262 - accuracy: 0.2520 - val_loss: 2.2477 - val_accuracy: 0.2406\n",
      "Epoch 52/100\n",
      "796/796 [==============================] - 2s 3ms/step - loss: 2.2246 - accuracy: 0.2508 - val_loss: 2.2362 - val_accuracy: 0.2455\n",
      "Epoch 53/100\n",
      "796/796 [==============================] - 2s 3ms/step - loss: 2.2245 - accuracy: 0.2528 - val_loss: 2.2463 - val_accuracy: 0.2386\n",
      "Epoch 54/100\n",
      "796/796 [==============================] - 2s 3ms/step - loss: 2.2234 - accuracy: 0.2506 - val_loss: 2.2380 - val_accuracy: 0.2474\n",
      "Epoch 55/100\n",
      "796/796 [==============================] - 2s 3ms/step - loss: 2.2224 - accuracy: 0.2531 - val_loss: 2.2425 - val_accuracy: 0.2420\n",
      "Epoch 56/100\n",
      "796/796 [==============================] - 2s 3ms/step - loss: 2.2212 - accuracy: 0.2532 - val_loss: 2.2418 - val_accuracy: 0.2427\n",
      "Epoch 57/100\n",
      "796/796 [==============================] - 2s 3ms/step - loss: 2.2205 - accuracy: 0.2539 - val_loss: 2.2397 - val_accuracy: 0.2431\n",
      "Epoch 58/100\n",
      "796/796 [==============================] - 2s 3ms/step - loss: 2.2194 - accuracy: 0.2524 - val_loss: 2.2393 - val_accuracy: 0.2450\n",
      "Epoch 59/100\n",
      "796/796 [==============================] - 2s 3ms/step - loss: 2.2176 - accuracy: 0.2523 - val_loss: 2.2361 - val_accuracy: 0.2431\n",
      "Epoch 60/100\n",
      "796/796 [==============================] - 2s 3ms/step - loss: 2.2166 - accuracy: 0.2542 - val_loss: 2.2374 - val_accuracy: 0.2408\n",
      "Epoch 61/100\n",
      "796/796 [==============================] - 2s 3ms/step - loss: 2.2171 - accuracy: 0.2533 - val_loss: 2.2327 - val_accuracy: 0.2469\n",
      "Epoch 62/100\n",
      "796/796 [==============================] - 2s 3ms/step - loss: 2.2160 - accuracy: 0.2514 - val_loss: 2.2411 - val_accuracy: 0.2447\n",
      "Epoch 63/100\n",
      "796/796 [==============================] - 2s 3ms/step - loss: 2.2151 - accuracy: 0.2531 - val_loss: 2.2406 - val_accuracy: 0.2422\n",
      "Epoch 64/100\n",
      "796/796 [==============================] - 2s 3ms/step - loss: 2.2134 - accuracy: 0.2557 - val_loss: 2.2419 - val_accuracy: 0.2417\n",
      "Epoch 65/100\n",
      "796/796 [==============================] - 2s 3ms/step - loss: 2.2147 - accuracy: 0.2541 - val_loss: 2.2325 - val_accuracy: 0.2411\n",
      "Epoch 66/100\n",
      "796/796 [==============================] - 2s 3ms/step - loss: 2.2126 - accuracy: 0.2552 - val_loss: 2.2313 - val_accuracy: 0.2441\n",
      "Epoch 67/100\n",
      "796/796 [==============================] - 2s 3ms/step - loss: 2.2124 - accuracy: 0.2531 - val_loss: 2.2354 - val_accuracy: 0.2427\n",
      "Epoch 68/100\n",
      "796/796 [==============================] - 2s 3ms/step - loss: 2.2123 - accuracy: 0.2539 - val_loss: 2.2290 - val_accuracy: 0.2461\n",
      "Epoch 69/100\n",
      "796/796 [==============================] - 2s 3ms/step - loss: 2.2112 - accuracy: 0.2554 - val_loss: 2.2266 - val_accuracy: 0.2456\n",
      "Epoch 70/100\n",
      "796/796 [==============================] - 2s 3ms/step - loss: 2.2102 - accuracy: 0.2550 - val_loss: 2.2474 - val_accuracy: 0.2428\n",
      "Epoch 71/100\n",
      "796/796 [==============================] - 2s 3ms/step - loss: 2.2105 - accuracy: 0.2557 - val_loss: 2.2327 - val_accuracy: 0.2466\n",
      "Epoch 72/100\n",
      "796/796 [==============================] - 2s 3ms/step - loss: 2.2092 - accuracy: 0.2540 - val_loss: 2.2313 - val_accuracy: 0.2441\n",
      "Epoch 73/100\n",
      "796/796 [==============================] - 2s 3ms/step - loss: 2.2084 - accuracy: 0.2532 - val_loss: 2.2297 - val_accuracy: 0.2466\n",
      "Epoch 74/100\n",
      "796/796 [==============================] - 2s 3ms/step - loss: 2.2088 - accuracy: 0.2555 - val_loss: 2.2358 - val_accuracy: 0.2445\n",
      "Epoch 75/100\n",
      "796/796 [==============================] - 2s 3ms/step - loss: 2.2071 - accuracy: 0.2562 - val_loss: 2.2297 - val_accuracy: 0.2445\n",
      "Epoch 76/100\n",
      "796/796 [==============================] - 2s 3ms/step - loss: 2.2077 - accuracy: 0.2546 - val_loss: 2.2303 - val_accuracy: 0.2456\n",
      "Epoch 77/100\n",
      "796/796 [==============================] - 2s 3ms/step - loss: 2.2066 - accuracy: 0.2554 - val_loss: 2.2325 - val_accuracy: 0.2447\n",
      "Epoch 78/100\n",
      "796/796 [==============================] - 2s 3ms/step - loss: 2.2063 - accuracy: 0.2556 - val_loss: 2.2278 - val_accuracy: 0.2474\n",
      "Epoch 79/100\n",
      "796/796 [==============================] - 2s 3ms/step - loss: 2.2071 - accuracy: 0.2562 - val_loss: 2.2310 - val_accuracy: 0.2464\n",
      "Epoch 80/100\n",
      "796/796 [==============================] - 2s 3ms/step - loss: 2.2062 - accuracy: 0.2548 - val_loss: 2.2330 - val_accuracy: 0.2394\n",
      "Epoch 81/100\n",
      "796/796 [==============================] - 2s 3ms/step - loss: 2.2045 - accuracy: 0.2557 - val_loss: 2.2270 - val_accuracy: 0.2436\n",
      "Epoch 82/100\n",
      "796/796 [==============================] - 2s 3ms/step - loss: 2.2055 - accuracy: 0.2558 - val_loss: 2.2279 - val_accuracy: 0.2478\n",
      "Epoch 83/100\n",
      "796/796 [==============================] - 2s 3ms/step - loss: 2.2047 - accuracy: 0.2548 - val_loss: 2.2344 - val_accuracy: 0.2442\n",
      "Epoch 84/100\n",
      "796/796 [==============================] - 2s 3ms/step - loss: 2.2055 - accuracy: 0.2568 - val_loss: 2.2254 - val_accuracy: 0.2449\n",
      "Epoch 85/100\n",
      "796/796 [==============================] - 2s 3ms/step - loss: 2.2028 - accuracy: 0.2548 - val_loss: 2.2364 - val_accuracy: 0.2478\n",
      "Epoch 86/100\n",
      "796/796 [==============================] - 2s 3ms/step - loss: 2.2034 - accuracy: 0.2544 - val_loss: 2.2351 - val_accuracy: 0.2449\n",
      "Epoch 87/100\n",
      "796/796 [==============================] - 2s 3ms/step - loss: 2.2021 - accuracy: 0.2538 - val_loss: 2.2279 - val_accuracy: 0.2467\n",
      "Epoch 88/100\n",
      "796/796 [==============================] - 2s 3ms/step - loss: 2.2031 - accuracy: 0.2533 - val_loss: 2.2244 - val_accuracy: 0.2489\n",
      "Epoch 89/100\n",
      "796/796 [==============================] - 2s 3ms/step - loss: 2.2035 - accuracy: 0.2553 - val_loss: 2.2250 - val_accuracy: 0.2449\n",
      "Epoch 90/100\n",
      "796/796 [==============================] - 2s 3ms/step - loss: 2.2028 - accuracy: 0.2573 - val_loss: 2.2219 - val_accuracy: 0.2461\n",
      "Epoch 91/100\n",
      "796/796 [==============================] - 2s 3ms/step - loss: 2.2019 - accuracy: 0.2563 - val_loss: 2.2253 - val_accuracy: 0.2469\n",
      "Epoch 92/100\n",
      "796/796 [==============================] - 2s 3ms/step - loss: 2.2011 - accuracy: 0.2568 - val_loss: 2.2297 - val_accuracy: 0.2478\n",
      "Epoch 93/100\n",
      "796/796 [==============================] - 2s 3ms/step - loss: 2.2016 - accuracy: 0.2563 - val_loss: 2.2285 - val_accuracy: 0.2472\n",
      "Epoch 94/100\n",
      "796/796 [==============================] - 2s 3ms/step - loss: 2.1997 - accuracy: 0.2556 - val_loss: 2.2308 - val_accuracy: 0.2464\n",
      "Epoch 95/100\n",
      "796/796 [==============================] - 2s 3ms/step - loss: 2.2012 - accuracy: 0.2561 - val_loss: 2.2266 - val_accuracy: 0.2493\n",
      "Epoch 96/100\n",
      "796/796 [==============================] - 2s 3ms/step - loss: 2.2010 - accuracy: 0.2572 - val_loss: 2.2296 - val_accuracy: 0.2458\n",
      "Epoch 97/100\n",
      "796/796 [==============================] - 2s 3ms/step - loss: 2.1989 - accuracy: 0.2548 - val_loss: 2.2273 - val_accuracy: 0.2482\n",
      "Epoch 98/100\n",
      "796/796 [==============================] - 2s 3ms/step - loss: 2.1997 - accuracy: 0.2549 - val_loss: 2.2215 - val_accuracy: 0.2488\n",
      "Epoch 99/100\n",
      "796/796 [==============================] - 2s 3ms/step - loss: 2.1995 - accuracy: 0.2570 - val_loss: 2.2278 - val_accuracy: 0.2469\n",
      "Epoch 100/100\n",
      "796/796 [==============================] - 2s 3ms/step - loss: 2.1989 - accuracy: 0.2565 - val_loss: 2.2258 - val_accuracy: 0.2455\n",
      "CPU times: total: 7min 50s\n",
      "Wall time: 6min 44s\n"
     ]
    }
   ],
   "source": [
    "%%time\n",
    "# set random seed \n",
    "tf.random.set_seed(1)\n",
    "# Fit the model and save the results in history\n",
    "history = tf_model.fit(x=X_train, y=y_train, batch_size=32, epochs=100,\n",
    "          validation_data=(X_test,y_test), verbose= 1\n",
    "          )"
   ]
  },
  {
   "cell_type": "code",
   "execution_count": 25,
   "id": "fd9bad91-8e5c-440b-bd00-6f5807993d63",
   "metadata": {},
   "outputs": [
    {
     "data": {
      "text/html": [
       "<div>\n",
       "<style scoped>\n",
       "    .dataframe tbody tr th:only-of-type {\n",
       "        vertical-align: middle;\n",
       "    }\n",
       "\n",
       "    .dataframe tbody tr th {\n",
       "        vertical-align: top;\n",
       "    }\n",
       "\n",
       "    .dataframe thead th {\n",
       "        text-align: right;\n",
       "    }\n",
       "</style>\n",
       "<table border=\"1\" class=\"dataframe\">\n",
       "  <thead>\n",
       "    <tr style=\"text-align: right;\">\n",
       "      <th></th>\n",
       "      <th>loss</th>\n",
       "      <th>accuracy</th>\n",
       "      <th>val_loss</th>\n",
       "      <th>val_accuracy</th>\n",
       "      <th>epoch</th>\n",
       "    </tr>\n",
       "  </thead>\n",
       "  <tbody>\n",
       "    <tr>\n",
       "      <th>95</th>\n",
       "      <td>2.201011</td>\n",
       "      <td>0.257190</td>\n",
       "      <td>2.229564</td>\n",
       "      <td>0.245796</td>\n",
       "      <td>95</td>\n",
       "    </tr>\n",
       "    <tr>\n",
       "      <th>96</th>\n",
       "      <td>2.198872</td>\n",
       "      <td>0.254833</td>\n",
       "      <td>2.227260</td>\n",
       "      <td>0.248153</td>\n",
       "      <td>96</td>\n",
       "    </tr>\n",
       "    <tr>\n",
       "      <th>97</th>\n",
       "      <td>2.199653</td>\n",
       "      <td>0.254911</td>\n",
       "      <td>2.221512</td>\n",
       "      <td>0.248782</td>\n",
       "      <td>97</td>\n",
       "    </tr>\n",
       "    <tr>\n",
       "      <th>98</th>\n",
       "      <td>2.199484</td>\n",
       "      <td>0.256954</td>\n",
       "      <td>2.227775</td>\n",
       "      <td>0.246896</td>\n",
       "      <td>98</td>\n",
       "    </tr>\n",
       "    <tr>\n",
       "      <th>99</th>\n",
       "      <td>2.198917</td>\n",
       "      <td>0.256522</td>\n",
       "      <td>2.225793</td>\n",
       "      <td>0.245482</td>\n",
       "      <td>99</td>\n",
       "    </tr>\n",
       "  </tbody>\n",
       "</table>\n",
       "</div>"
      ],
      "text/plain": [
       "        loss  accuracy  val_loss  val_accuracy  epoch\n",
       "95  2.201011  0.257190  2.229564      0.245796     95\n",
       "96  2.198872  0.254833  2.227260      0.248153     96\n",
       "97  2.199653  0.254911  2.221512      0.248782     97\n",
       "98  2.199484  0.256954  2.227775      0.246896     98\n",
       "99  2.198917  0.256522  2.225793      0.245482     99"
      ]
     },
     "execution_count": 25,
     "metadata": {},
     "output_type": "execute_result"
    }
   ],
   "source": [
    "# Convert to df for performance visualization\n",
    "trainhist = pd.DataFrame(history.history)\n",
    "# add epoch column for x value in visualization/progression\n",
    "trainhist['epoch'] = history.epoch\n",
    "# results\n",
    "trainhist.tail()"
   ]
  },
  {
   "cell_type": "code",
   "execution_count": 26,
   "id": "1676169f-2580-4633-bf09-ffc8794ea027",
   "metadata": {},
   "outputs": [
    {
     "data": {
      "text/plain": [
       "<matplotlib.legend.Legend at 0x23ecbf4b220>"
      ]
     },
     "execution_count": 26,
     "metadata": {},
     "output_type": "execute_result"
    },
    {
     "data": {
      "image/png": "[encoded data removed]",
      "text/plain": [
       "<Figure size 640x480 with 1 Axes>"
      ]
     },
     "metadata": {},
     "output_type": "display_data"
    }
   ],
   "source": [
    "# Training loss\n",
    "sns.lineplot(x='epoch', y='loss', data=trainhist)\n",
    "# Validation loss\n",
    "sns.lineplot(x='epoch', y='val_loss', data=trainhist)\n",
    "# Legend\n",
    "plt.legend(labels=['train_loss', 'val_loss'])"
   ]
  },
  {
   "cell_type": "markdown",
   "id": "3fe34d5b-d8fb-4f95-8cf8-b52f0e9104c3",
   "metadata": {},
   "source": [
    "The model above definitely overfits the data. We can see that by the continued improvement on training data with a plateau in validation loss. "
   ]
  },
  {
   "cell_type": "code",
   "execution_count": 27,
   "id": "37a4bddc-2cb4-4761-9b8b-1897db3ee23a",
   "metadata": {},
   "outputs": [
    {
     "data": {
      "text/plain": [
       "15"
      ]
     },
     "execution_count": 27,
     "metadata": {},
     "output_type": "execute_result"
    }
   ],
   "source": [
    "X_train.shape[1] #input"
   ]
  },
  {
   "cell_type": "code",
   "execution_count": 28,
   "id": "635a29bf-559c-410b-a8a6-7c8d369ba40a",
   "metadata": {},
   "outputs": [
    {
     "data": {
      "text/plain": [
       "16"
      ]
     },
     "execution_count": 28,
     "metadata": {},
     "output_type": "execute_result"
    }
   ],
   "source": [
    "y_train.shape[1] #output"
   ]
  },
  {
   "cell_type": "code",
   "execution_count": 45,
   "id": "60eb74f4-90a1-434d-9cd9-1782105bb61c",
   "metadata": {},
   "outputs": [],
   "source": [
    "X_train = np.array(X_train)\n",
    "y_train = np.array(y_train)\n",
    "\n",
    "X_test = np.array(X_test)\n",
    "y_test = np.array(y_test)\n"
   ]
  },
  {
   "cell_type": "code",
   "execution_count": 57,
   "id": "d15f6f8b-e4b4-4d9b-adce-0834d5cc8eb0",
   "metadata": {},
   "outputs": [],
   "source": [
    "def model_builder(hp):\n",
    "    model = keras.Sequential()\n",
    "\n",
    "    hp_units1 = hp.Int('unit1', min_value=20, max_value=100, step=5)\n",
    "    hp_units2 = hp.Int('unit2', min_value=10, max_value=50, step=2)\n",
    "    hp_dropout1 = hp.Float('rate1', min_value = 0.2, max_value=0.8, step=0.1)\n",
    "    hp_dropout2 = hp.Float('rate1', min_value = 0.2, max_value=0.8, step=0.1)\n",
    "\n",
    "    model.add(layers.Dense(units=15, activation='relu')) # Input Layer\n",
    "\n",
    "    model.add(layers.Dense(units = hp_units1, activation='relu')) # Hidden layer 1\n",
    "    model.add(Dropout(rate=hp_dropout1))\n",
    "\n",
    "    model.add(layers.Dense(units = hp_units2, activation='relu')) # Hidden layer 2\n",
    "    model.add(Dropout(rate=hp_dropout2))\n",
    "\n",
    "    model.add(layers.Dense(units=16, activation='softmax')) # Output Layer\n",
    "\n",
    "    model.compile(optimizer=keras.optimizers.Adam(learning_rate=0.001), loss='categorical_crossentropy', metrics=['accuracy'])\n",
    "\n",
    "    return model"
   ]
  },
  {
   "cell_type": "code",
   "execution_count": 58,
   "id": "a13216e1-2d87-400f-8adc-402107a46c94",
   "metadata": {},
   "outputs": [
    {
     "name": "stdout",
     "output_type": "stream",
     "text": [
      "Reloading Tuner from Project3\\wd_pred\\tuner0.json\n"
     ]
    }
   ],
   "source": [
    "tuner = kt.Hyperband(model_builder, #Specify the model\n",
    "                     objective = 'val_loss', #Specify the objective funciton\n",
    "                     max_epochs = 100, #Specify the maximum epochs\n",
    "                     directory = 'Project3', #Specify the file path\n",
    "                     project_name = 'wd_pred')"
   ]
  },
  {
   "cell_type": "code",
   "execution_count": 59,
   "id": "8a257939-d11f-4aeb-8ee3-5661d79d74bb",
   "metadata": {},
   "outputs": [],
   "source": [
    "early_stop = EarlyStopping(monitor='val_loss', patience=3)"
   ]
  },
  {
   "cell_type": "code",
   "execution_count": 60,
   "id": "556a71e6-85bd-4858-bd2f-c11d4962587e",
   "metadata": {},
   "outputs": [
    {
     "name": "stdout",
     "output_type": "stream",
     "text": [
      "Trial 254 Complete [00h 01m 13s]\n",
      "val_loss: 2.275911808013916\n",
      "\n",
      "Best val_loss So Far: 2.1935341358184814\n",
      "Total elapsed time: 01h 11m 55s\n"
     ]
    }
   ],
   "source": [
    "shutil.rmtree('Project3')\n",
    "# Perform search\n",
    "tuner.search(X_train, y_train, epochs=20, validation_data=(X_test, y_test), callbacks=[early_stop])"
   ]
  },
  {
   "cell_type": "code",
   "execution_count": 97,
   "id": "53e2e7d6-3116-44d2-aad9-0ca144a39fb3",
   "metadata": {},
   "outputs": [
    {
     "name": "stdout",
     "output_type": "stream",
     "text": [
      "Best hyperparameters found: {'units': 10, 'rate': 0.4, 'learning_rate': 0.0001, 'unit1': 90, 'unit2': 50, 'rate1': 0.2, 'tuner/epochs': 100, 'tuner/initial_epoch': 34, 'tuner/bracket': 4, 'tuner/round': 4, 'tuner/trial_id': '0142'}\n",
      "\n",
      "The optimal number of units in the input layer:             10        \n",
      "The optimal number of units in the first hidden layer:      90        \n",
      "The optimal dropout rate in the first hidden layer:         0.2       \n",
      "The optimal number of units in the second hidden layer:     50        \n",
      "The optimal dropout rate in the second hidden layer:        0.2       \n",
      "The optimal learning rate for the optimizer of Adam:        0.0001    \n"
     ]
    }
   ],
   "source": [
    "# Get the best hyperparameters\n",
    "best_hps = tuner.get_best_hyperparameters(num_trials=1)[0]\n",
    "print(f\"Best hyperparameters found: {best_hps.values}\")\n",
    "\n",
    "print()\n",
    "print(f\"{'The optimal number of units in the input layer:':<60}{best_hps.get('units'):<10}\") \n",
    "print(f\"{'The optimal number of units in the first hidden layer:':<60}{best_hps.get('unit1'):<10}\") \n",
    "print(f\"{'The optimal dropout rate in the first hidden layer:':<60}{best_hps.get('rate1'):<10}\")\n",
    "print(f\"{'The optimal number of units in the second hidden layer:':<60}{best_hps.get('unit2'):<10}\")\n",
    "print(f\"{'The optimal dropout rate in the second hidden layer:':<60}{best_hps.get('rate1'):<10}\")\n",
    "print(f\"{'The optimal learning rate for the optimizer of Adam:':<60}{best_hps.get('learning_rate'):<10}\")"
   ]
  },
  {
   "cell_type": "code",
   "execution_count": 62,
   "id": "e2832816-1a18-4ef5-908b-24c1fc639897",
   "metadata": {},
   "outputs": [
    {
     "name": "stdout",
     "output_type": "stream",
     "text": [
      "Epoch 1/50\n",
      "796/796 [==============================] - 3s 3ms/step - loss: 2.5468 - accuracy: 0.1794 - val_loss: 2.4147 - val_accuracy: 0.2107\n",
      "Epoch 2/50\n",
      "796/796 [==============================] - 2s 3ms/step - loss: 2.4168 - accuracy: 0.2061 - val_loss: 2.3624 - val_accuracy: 0.2200\n",
      "Epoch 3/50\n",
      "796/796 [==============================] - 2s 2ms/step - loss: 2.3754 - accuracy: 0.2168 - val_loss: 2.3360 - val_accuracy: 0.2243\n",
      "Epoch 4/50\n",
      "796/796 [==============================] - 2s 2ms/step - loss: 2.3542 - accuracy: 0.2199 - val_loss: 2.3207 - val_accuracy: 0.2271\n",
      "Epoch 5/50\n",
      "796/796 [==============================] - 2s 2ms/step - loss: 2.3439 - accuracy: 0.2251 - val_loss: 2.3171 - val_accuracy: 0.2309\n",
      "Epoch 6/50\n",
      "796/796 [==============================] - 2s 2ms/step - loss: 2.3276 - accuracy: 0.2274 - val_loss: 2.3016 - val_accuracy: 0.2280\n",
      "Epoch 7/50\n",
      "796/796 [==============================] - 2s 3ms/step - loss: 2.3197 - accuracy: 0.2309 - val_loss: 2.2899 - val_accuracy: 0.2359\n",
      "Epoch 8/50\n",
      "796/796 [==============================] - 2s 3ms/step - loss: 2.3111 - accuracy: 0.2312 - val_loss: 2.2923 - val_accuracy: 0.2409\n",
      "Epoch 9/50\n",
      "796/796 [==============================] - 2s 3ms/step - loss: 2.3053 - accuracy: 0.2354 - val_loss: 2.2773 - val_accuracy: 0.2417\n",
      "Epoch 10/50\n",
      "796/796 [==============================] - 2s 3ms/step - loss: 2.2994 - accuracy: 0.2381 - val_loss: 2.2708 - val_accuracy: 0.2365\n",
      "Epoch 11/50\n",
      "796/796 [==============================] - 2s 2ms/step - loss: 2.2903 - accuracy: 0.2362 - val_loss: 2.2696 - val_accuracy: 0.2400\n",
      "Epoch 12/50\n",
      "796/796 [==============================] - 2s 3ms/step - loss: 2.2819 - accuracy: 0.2393 - val_loss: 2.2642 - val_accuracy: 0.2409\n",
      "Epoch 13/50\n",
      "796/796 [==============================] - 2s 2ms/step - loss: 2.2751 - accuracy: 0.2433 - val_loss: 2.2584 - val_accuracy: 0.2416\n",
      "Epoch 14/50\n",
      "796/796 [==============================] - 2s 3ms/step - loss: 2.2698 - accuracy: 0.2404 - val_loss: 2.2534 - val_accuracy: 0.2436\n",
      "Epoch 15/50\n",
      "796/796 [==============================] - 2s 3ms/step - loss: 2.2698 - accuracy: 0.2416 - val_loss: 2.2526 - val_accuracy: 0.2456\n",
      "Epoch 16/50\n",
      "796/796 [==============================] - 2s 3ms/step - loss: 2.2639 - accuracy: 0.2429 - val_loss: 2.2450 - val_accuracy: 0.2430\n",
      "Epoch 17/50\n",
      "796/796 [==============================] - 2s 2ms/step - loss: 2.2589 - accuracy: 0.2449 - val_loss: 2.2362 - val_accuracy: 0.2486\n",
      "Epoch 18/50\n",
      "796/796 [==============================] - 2s 3ms/step - loss: 2.2562 - accuracy: 0.2488 - val_loss: 2.2352 - val_accuracy: 0.2467\n",
      "Epoch 19/50\n",
      "796/796 [==============================] - 2s 3ms/step - loss: 2.2509 - accuracy: 0.2445 - val_loss: 2.2375 - val_accuracy: 0.2474\n",
      "Epoch 20/50\n",
      "796/796 [==============================] - 2s 3ms/step - loss: 2.2466 - accuracy: 0.2483 - val_loss: 2.2303 - val_accuracy: 0.2477\n",
      "Epoch 21/50\n",
      "796/796 [==============================] - 2s 3ms/step - loss: 2.2446 - accuracy: 0.2516 - val_loss: 2.2242 - val_accuracy: 0.2464\n",
      "Epoch 22/50\n",
      "796/796 [==============================] - 2s 3ms/step - loss: 2.2410 - accuracy: 0.2478 - val_loss: 2.2309 - val_accuracy: 0.2445\n",
      "Epoch 23/50\n",
      "796/796 [==============================] - 2s 3ms/step - loss: 2.2372 - accuracy: 0.2515 - val_loss: 2.2229 - val_accuracy: 0.2519\n",
      "Epoch 24/50\n",
      "796/796 [==============================] - 2s 3ms/step - loss: 2.2340 - accuracy: 0.2483 - val_loss: 2.2208 - val_accuracy: 0.2510\n",
      "Epoch 25/50\n",
      "796/796 [==============================] - 2s 3ms/step - loss: 2.2331 - accuracy: 0.2533 - val_loss: 2.2130 - val_accuracy: 0.2510\n",
      "Epoch 26/50\n",
      "796/796 [==============================] - 2s 3ms/step - loss: 2.2275 - accuracy: 0.2511 - val_loss: 2.2149 - val_accuracy: 0.2527\n",
      "Epoch 27/50\n",
      "796/796 [==============================] - 2s 3ms/step - loss: 2.2247 - accuracy: 0.2528 - val_loss: 2.2153 - val_accuracy: 0.2488\n",
      "Epoch 28/50\n",
      "796/796 [==============================] - 2s 3ms/step - loss: 2.2243 - accuracy: 0.2512 - val_loss: 2.2127 - val_accuracy: 0.2519\n",
      "Epoch 29/50\n",
      "796/796 [==============================] - 2s 3ms/step - loss: 2.2183 - accuracy: 0.2536 - val_loss: 2.2034 - val_accuracy: 0.2505\n",
      "Epoch 30/50\n",
      "796/796 [==============================] - 2s 3ms/step - loss: 2.2149 - accuracy: 0.2549 - val_loss: 2.2084 - val_accuracy: 0.2511\n",
      "Epoch 31/50\n",
      "796/796 [==============================] - 2s 3ms/step - loss: 2.2144 - accuracy: 0.2529 - val_loss: 2.2161 - val_accuracy: 0.2524\n",
      "Epoch 32/50\n",
      "796/796 [==============================] - 2s 3ms/step - loss: 2.2114 - accuracy: 0.2574 - val_loss: 2.2009 - val_accuracy: 0.2538\n",
      "Epoch 33/50\n",
      "796/796 [==============================] - 2s 3ms/step - loss: 2.2089 - accuracy: 0.2554 - val_loss: 2.2016 - val_accuracy: 0.2563\n",
      "Epoch 34/50\n",
      "796/796 [==============================] - 2s 3ms/step - loss: 2.2029 - accuracy: 0.2578 - val_loss: 2.1970 - val_accuracy: 0.2579\n",
      "Epoch 35/50\n",
      "796/796 [==============================] - 2s 3ms/step - loss: 2.2105 - accuracy: 0.2541 - val_loss: 2.2007 - val_accuracy: 0.2576\n",
      "Epoch 36/50\n",
      "796/796 [==============================] - 2s 3ms/step - loss: 2.2030 - accuracy: 0.2550 - val_loss: 2.1967 - val_accuracy: 0.2576\n",
      "Epoch 37/50\n",
      "796/796 [==============================] - 2s 3ms/step - loss: 2.2006 - accuracy: 0.2586 - val_loss: 2.2012 - val_accuracy: 0.2565\n",
      "Epoch 38/50\n",
      "796/796 [==============================] - 2s 3ms/step - loss: 2.1980 - accuracy: 0.2595 - val_loss: 2.1995 - val_accuracy: 0.2548\n",
      "Epoch 39/50\n",
      "796/796 [==============================] - 2s 3ms/step - loss: 2.1955 - accuracy: 0.2621 - val_loss: 2.1933 - val_accuracy: 0.2537\n",
      "Epoch 40/50\n",
      "796/796 [==============================] - 2s 3ms/step - loss: 2.1952 - accuracy: 0.2613 - val_loss: 2.1920 - val_accuracy: 0.2527\n",
      "Epoch 41/50\n",
      "796/796 [==============================] - 2s 2ms/step - loss: 2.1915 - accuracy: 0.2595 - val_loss: 2.1905 - val_accuracy: 0.2571\n",
      "Epoch 42/50\n",
      "796/796 [==============================] - 2s 3ms/step - loss: 2.1911 - accuracy: 0.2599 - val_loss: 2.1939 - val_accuracy: 0.2541\n",
      "Epoch 43/50\n",
      "796/796 [==============================] - 2s 3ms/step - loss: 2.1873 - accuracy: 0.2592 - val_loss: 2.1914 - val_accuracy: 0.2562\n",
      "Epoch 44/50\n",
      "796/796 [==============================] - 2s 3ms/step - loss: 2.1905 - accuracy: 0.2613 - val_loss: 2.1907 - val_accuracy: 0.2576\n",
      "Epoch 45/50\n",
      "796/796 [==============================] - 2s 3ms/step - loss: 2.1862 - accuracy: 0.2584 - val_loss: 2.1864 - val_accuracy: 0.2522\n",
      "Epoch 46/50\n",
      "796/796 [==============================] - 2s 2ms/step - loss: 2.1849 - accuracy: 0.2611 - val_loss: 2.1848 - val_accuracy: 0.2573\n",
      "Epoch 47/50\n",
      "796/796 [==============================] - 2s 3ms/step - loss: 2.1803 - accuracy: 0.2634 - val_loss: 2.1836 - val_accuracy: 0.2563\n",
      "Epoch 48/50\n",
      "796/796 [==============================] - 2s 3ms/step - loss: 2.1830 - accuracy: 0.2614 - val_loss: 2.1842 - val_accuracy: 0.2530\n",
      "Epoch 49/50\n",
      "796/796 [==============================] - 2s 3ms/step - loss: 2.1815 - accuracy: 0.2587 - val_loss: 2.1791 - val_accuracy: 0.2573\n",
      "Epoch 50/50\n",
      "796/796 [==============================] - 2s 3ms/step - loss: 2.1819 - accuracy: 0.2649 - val_loss: 2.1923 - val_accuracy: 0.2554\n"
     ]
    },
    {
     "data": {
      "text/plain": [
       "<keras.callbacks.History at 0x2406b693130>"
      ]
     },
     "execution_count": 62,
     "metadata": {},
     "output_type": "execute_result"
    }
   ],
   "source": [
    "best_model = tuner.hypermodel.build(best_hps)\n",
    "best_model.fit(X_train, y_train, epochs=50, validation_data=(X_test, y_test))"
   ]
  },
  {
   "cell_type": "markdown",
   "id": "a36e8e9d-d4e3-4469-8aa1-d835c05e5aa0",
   "metadata": {},
   "source": [
    "The above reflects a val_loss decrease from 2.2258 to 2.1923 and accuracy from 24.55% to 25.55%."
   ]
  },
  {
   "cell_type": "markdown",
   "id": "df6dc992-24f6-4c04-a869-b7a525004550",
   "metadata": {},
   "source": [
    "# PyTorch"
   ]
  },
  {
   "cell_type": "markdown",
   "id": "95f34369-ad9b-40c6-88c6-a8e4a4abc0a4",
   "metadata": {},
   "source": [
    "New Train Test Split to fit PyTorch single y-value requirement"
   ]
  },
  {
   "cell_type": "code",
   "execution_count": 180,
   "id": "9ed85df4-1aba-408d-b093-eef4edab9ad5",
   "metadata": {},
   "outputs": [],
   "source": [
    "X = df.drop('wd', axis=1)  # Features\n",
    "y = df['wd']\n",
    "\n",
    "#Split the data into training and test data\n",
    "X_train, X_test, y_train, y_test = train_test_split(X, y, test_size=0.2, random_state = 1)"
   ]
  },
  {
   "cell_type": "markdown",
   "id": "12a07886-0054-472e-a39a-84e5e550369a",
   "metadata": {},
   "source": [
    "### Encode labels and convert arrays to tensors"
   ]
  },
  {
   "cell_type": "code",
   "execution_count": 181,
   "id": "de8d9854-8f3e-4970-bc71-0f891703309e",
   "metadata": {},
   "outputs": [],
   "source": [
    "X_train = torch.tensor(X_train.values.astype(np.float32))\n",
    "label_encoder = LabelEncoder()\n",
    "y_train = label_encoder.fit_transform(y_train)  # Converts labels to integers\n",
    "y_test = label_encoder.transform(y_test)\n",
    "y_train = torch.tensor(y_train.astype(np.int64)).reshape(-1, 1)"
   ]
  },
  {
   "cell_type": "code",
   "execution_count": 182,
   "id": "0000e747-c6a7-4c8f-bed4-f0a5aa9b91f4",
   "metadata": {},
   "outputs": [
    {
     "name": "stdout",
     "output_type": "stream",
     "text": [
      "torch.Size([25452, 15])\n",
      "torch.Size([25452, 1])\n"
     ]
    }
   ],
   "source": [
    "print(X_train.shape)  # Features\n",
    "print(y_train.shape)  # Labels"
   ]
  },
  {
   "cell_type": "code",
   "execution_count": 183,
   "id": "6097adac-dd98-431b-8ebe-9baf78496ad9",
   "metadata": {},
   "outputs": [
    {
     "name": "stdout",
     "output_type": "stream",
     "text": [
      "torch.Size([6363, 15])\n",
      "torch.Size([6363, 1])\n"
     ]
    }
   ],
   "source": [
    "X_test = torch.tensor(X_test.values.astype(np.float32))\n",
    "y_test = torch.tensor(y_test.astype(np.int64)).reshape(-1, 1)\n",
    "\n",
    "print(X_test.shape)  # Features in the test set\n",
    "print(y_test.shape)  # Labels in the test set\n"
   ]
  },
  {
   "cell_type": "markdown",
   "id": "6bbe7a54-d7cc-44d8-bf89-4a5482ca58ff",
   "metadata": {},
   "source": [
    "Verified that all tensors line up correctly"
   ]
  },
  {
   "cell_type": "code",
   "execution_count": 202,
   "id": "1104fa3b-850b-4580-bee0-5c3ca31618a0",
   "metadata": {},
   "outputs": [
    {
     "name": "stdout",
     "output_type": "stream",
     "text": [
      "15\n"
     ]
    }
   ],
   "source": [
    "print(X_train.shape[1])"
   ]
  },
  {
   "cell_type": "code",
   "execution_count": 203,
   "id": "54eaf581-f273-4855-b586-6a36162b02cf",
   "metadata": {},
   "outputs": [
    {
     "name": "stdout",
     "output_type": "stream",
     "text": [
      "16\n"
     ]
    }
   ],
   "source": [
    "print(len(y_train.unique()))"
   ]
  },
  {
   "cell_type": "code",
   "execution_count": 204,
   "id": "dd1de39a-0b6f-4113-abd4-ccff39952488",
   "metadata": {},
   "outputs": [
    {
     "name": "stdout",
     "output_type": "stream",
     "text": [
      "15\n",
      "16\n"
     ]
    }
   ],
   "source": [
    "input_size = X_train.shape[1]\n",
    "output_size = len(y_train.unique())\n",
    "hidden_size = [20, 10]\n",
    "\n",
    "print(input_size)\n",
    "print(output_size)"
   ]
  },
  {
   "cell_type": "markdown",
   "id": "8ac6ca62-64d4-4e9a-a449-3b765dee420e",
   "metadata": {},
   "source": [
    "# Define the Classification Model"
   ]
  },
  {
   "cell_type": "code",
   "execution_count": 266,
   "id": "cb0fc378-9bee-43d1-9deb-47c00b246151",
   "metadata": {},
   "outputs": [],
   "source": [
    "class LinearClassificationModel(torch.nn.Module):\n",
    "    # constructor\n",
    "    def __init__(self, input_size, hidden_size, output_size):\n",
    "        super(LinearClassificationModel, self).__init__()\n",
    "        self.hidden1 = torch.nn.Linear(input_size, hidden_size[0])\n",
    "        self.hidden2 = torch.nn.Linear(hidden_size[0], hidden_size[1])\n",
    "        self.predict = torch.nn.Linear(hidden_size[1], output_size)\n",
    "    # forward function\n",
    "    def forward(self, x):\n",
    "        x = F.relu(self.hidden1(x))\n",
    "        x = F.relu(self.hidden2(x))\n",
    "        y_pred = F.log_softmax(self.predict(x), dim=1)\n",
    "        return y_pred"
   ]
  },
  {
   "cell_type": "code",
   "execution_count": 267,
   "id": "5a2c46d4-7aa2-4fff-9c4c-d4d60fc7c899",
   "metadata": {},
   "outputs": [],
   "source": [
    "pt_model = LinearClassificationModel(input_size, hidden_size, output_size)\n",
    "l = nn.CrossEntropyLoss()\n",
    "optimizer = torch.optim.SGD(pt_model.parameters(), lr=0.01)"
   ]
  },
  {
   "cell_type": "code",
   "execution_count": 268,
   "id": "fdaac5ed-66f6-425f-bac8-bb34d115821c",
   "metadata": {},
   "outputs": [],
   "source": [
    "y_train = y_train.squeeze()  # Removes the extra dimension\n",
    "y_test = y_test.squeeze()"
   ]
  },
  {
   "cell_type": "code",
   "execution_count": 269,
   "id": "e3978bb1-3874-491a-90d2-d0e3b432c18b",
   "metadata": {},
   "outputs": [
    {
     "name": "stdout",
     "output_type": "stream",
     "text": [
      "epoch 0, loss = 55.2769 and val_loss = 605.5320\n",
      "epoch 100, loss = 2.8024 and val_loss = 2.8040\n",
      "epoch 200, loss = 2.7847 and val_loss = 2.7857\n",
      "epoch 300, loss = 2.7692 and val_loss = 2.7695\n",
      "epoch 400, loss = 2.7556 and val_loss = 2.7554\n",
      "CPU times: total: 21.6 s\n",
      "Wall time: 2.73 s\n"
     ]
    }
   ],
   "source": [
    "%%time\n",
    "\n",
    "# set random seeds\n",
    "torch.manual_seed(1)\n",
    "np.random.seed(1)\n",
    "\n",
    "# set epochs\n",
    "\n",
    "num_epochs=500\n",
    "\n",
    "train_loss = [None]*num_epochs\n",
    "validation_loss = [None]*num_epochs\n",
    "for epoch in range(num_epochs):\n",
    "    output = pt_model(X_train)\n",
    "    loss = l(output, y_train)\n",
    "    train_loss[epoch] = loss.item()\n",
    "    optimizer.zero_grad()\n",
    "    loss.backward()\n",
    "    optimizer.step()\n",
    "\n",
    "    # Stop tracking gradient\n",
    "    y_pred = pt_model(X_test).detach()\n",
    "    val_loss = l(y_pred, y_test)\n",
    "    validation_loss[epoch] = val_loss.item()\n",
    "    if epoch % 100 == 0:\n",
    "        print(f\"epoch {epoch}, loss = {loss.item():.4f} and val_loss = {val_loss:.4f}\")"
   ]
  },
  {
   "cell_type": "code",
   "execution_count": 270,
   "id": "6099a9b0-9ac4-41ab-a607-e1a458e23c73",
   "metadata": {},
   "outputs": [
    {
     "data": {
      "text/html": [
       "<div>\n",
       "<style scoped>\n",
       "    .dataframe tbody tr th:only-of-type {\n",
       "        vertical-align: middle;\n",
       "    }\n",
       "\n",
       "    .dataframe tbody tr th {\n",
       "        vertical-align: top;\n",
       "    }\n",
       "\n",
       "    .dataframe thead th {\n",
       "        text-align: right;\n",
       "    }\n",
       "</style>\n",
       "<table border=\"1\" class=\"dataframe\">\n",
       "  <thead>\n",
       "    <tr style=\"text-align: right;\">\n",
       "      <th></th>\n",
       "      <th>train_loss</th>\n",
       "      <th>val_loss</th>\n",
       "      <th>epoch</th>\n",
       "    </tr>\n",
       "  </thead>\n",
       "  <tbody>\n",
       "    <tr>\n",
       "      <th>495</th>\n",
       "      <td>2.744361</td>\n",
       "      <td>2.743567</td>\n",
       "      <td>495</td>\n",
       "    </tr>\n",
       "    <tr>\n",
       "      <th>496</th>\n",
       "      <td>2.744250</td>\n",
       "      <td>2.743451</td>\n",
       "      <td>496</td>\n",
       "    </tr>\n",
       "    <tr>\n",
       "      <th>497</th>\n",
       "      <td>2.744139</td>\n",
       "      <td>2.743335</td>\n",
       "      <td>497</td>\n",
       "    </tr>\n",
       "    <tr>\n",
       "      <th>498</th>\n",
       "      <td>2.744029</td>\n",
       "      <td>2.743219</td>\n",
       "      <td>498</td>\n",
       "    </tr>\n",
       "    <tr>\n",
       "      <th>499</th>\n",
       "      <td>2.743918</td>\n",
       "      <td>2.743104</td>\n",
       "      <td>499</td>\n",
       "    </tr>\n",
       "  </tbody>\n",
       "</table>\n",
       "</div>"
      ],
      "text/plain": [
       "     train_loss  val_loss  epoch\n",
       "495    2.744361  2.743567    495\n",
       "496    2.744250  2.743451    496\n",
       "497    2.744139  2.743335    497\n",
       "498    2.744029  2.743219    498\n",
       "499    2.743918  2.743104    499"
      ]
     },
     "execution_count": 270,
     "metadata": {},
     "output_type": "execute_result"
    }
   ],
   "source": [
    "trainhist3 = pd.DataFrame({'train_loss': train_loss, 'val_loss': validation_loss, 'epoch':np.arange(num_epochs)})\n",
    "\n",
    "trainhist3.tail()"
   ]
  },
  {
   "cell_type": "code",
   "execution_count": 271,
   "id": "e181b675-33a9-45cb-8d90-e15228add840",
   "metadata": {},
   "outputs": [
    {
     "data": {
      "text/plain": [
       "<matplotlib.legend.Legend at 0x240adac9c30>"
      ]
     },
     "execution_count": 271,
     "metadata": {},
     "output_type": "execute_result"
    },
    {
     "data": {
      "image/png": "[encoded data removed]",
      "text/plain": [
       "<Figure size 640x480 with 1 Axes>"
      ]
     },
     "metadata": {},
     "output_type": "display_data"
    }
   ],
   "source": [
    "# Train loss\n",
    "sns.lineplot(x='epoch', y ='train_loss', data =trainhist3)\n",
    "# Validation loss\n",
    "sns.lineplot(x='epoch', y ='val_loss', data =trainhist3)\n",
    "#Add legends\n",
    "plt.legend(labels=['train_loss', 'val_loss'])"
   ]
  },
  {
   "cell_type": "markdown",
   "id": "731f56fd-c9c9-4a8f-bc70-9367806567fc",
   "metadata": {},
   "source": [
    "Interestingly, the validation loss appears to shrink more than the training loss. <br /> \n",
    "We have extremely early plateau occurring after a very steep drop. <br />\n",
    "The curve could likely benefit from dropout, but regardless, <br />\n",
    "it converges really well with epoch 500 showing a slightly lower loss than training_loss. "
   ]
  },
  {
   "cell_type": "markdown",
   "id": "3b53e7dc-004e-4497-b956-2b69bfc37d40",
   "metadata": {},
   "source": [
    "### For the above reasons, I would say that this slightly underfits the data. "
   ]
  }
 ],
 "metadata": {
  "kernelspec": {
   "display_name": "Python 3 (ipykernel)",
   "language": "python",
   "name": "python3"
  },
  "language_info": {
   "codemirror_mode": {
    "name": "ipython",
    "version": 3
   },
   "file_extension": ".py",
   "mimetype": "text/x-python",
   "name": "python",
   "nbconvert_exporter": "python",
   "pygments_lexer": "ipython3",
   "version": "3.10.9"
  }
 },
 "nbformat": 4,
 "nbformat_minor": 5
}
