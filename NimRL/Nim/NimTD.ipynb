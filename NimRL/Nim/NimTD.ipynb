{
 "cells": [
  {
   "cell_type": "markdown",
   "id": "27bb920d-326d-434e-9894-14855ccbc775",
   "metadata": {},
   "source": [
    "# Temporal Difference Reinforcement Learning with Nim\n",
    "Nim is a strategy game where players take turns removing stones from a number of piles. <br>\n",
    "The goal is to force your opponent to take the last stone, resulting in a loss for your opponent. "
   ]
  },
  {
   "cell_type": "markdown",
   "id": "287138c6-4644-4cea-8cdb-ccc23cf1e40c",
   "metadata": {},
   "source": [
    "#### import agents and environments"
   ]
  },
  {
   "cell_type": "code",
   "execution_count": 13,
   "id": "98d9bc65-5513-4879-a647-79dc55569eba",
   "metadata": {},
   "outputs": [],
   "source": [
    "from NimEnv import *\n",
    "from BotPlayerEnv import *\n",
    "from Agents import *\n",
    "from TDAgent import * "
   ]
  },
  {
   "cell_type": "markdown",
   "id": "3cd84736-7d63-4aaf-a451-d99fc1bb0777",
   "metadata": {},
   "source": [
    "#### Set up environment, agents, and train"
   ]
  },
  {
   "cell_type": "code",
   "execution_count": 15,
   "id": "5be62028-38fd-43d9-b7e3-6fa7e71f72be",
   "metadata": {},
   "outputs": [],
   "source": [
    "nim1 = Nim(piles=3, stones=9, limit=5)\n",
    "bot1 = RandomPlayer('Bot')\n",
    "bot_env1 = BotPlayerEnv(game_env=nim1, agent=bot1)\n",
    "td1 = TDAgent(bot_env1, gamma=1, random_state=1)\n",
    "\n",
    "td1.q_learning(episodes=10000, epsilon=0.1, alpha=0.1, track_history=False)"
   ]
  },
  {
   "cell_type": "markdown",
   "id": "c16a1604-442c-44d0-9a4f-ccdf935914bf",
   "metadata": {},
   "source": [
    "#### Define players."
   ]
  },
  {
   "cell_type": "code",
   "execution_count": 17,
   "id": "44d48280-8f4f-4d54-a2f8-e9fe04666d27",
   "metadata": {},
   "outputs": [],
   "source": [
    "p1 = PolicyPlayer('Policy Player', policy=td1.policy)\n",
    "random1 = RandomPlayer('Random Player')\n",
    "minimax2 = MinimaxPlayer('Minimax Player 2', depth=2)\n",
    "minimax3 = MinimaxPlayer('Minimax Player 3', depth=3)\n",
    "minimax4 = MinimaxPlayer('Minimax Player 4', depth=4)"
   ]
  },
  {
   "cell_type": "markdown",
   "id": "f8b0e93d-31cf-4dc9-940c-703f94233037",
   "metadata": {},
   "source": [
    "### Tournaments between Temporal Difference Agent and other agents using Q-learning. \n",
    "Single instance of basic training against random player for demonstration"
   ]
  },
  {
   "cell_type": "markdown",
   "id": "85b0bc59-0503-4647-87b1-73b7a17dffc8",
   "metadata": {},
   "source": [
    "# TDAgent VS RandomPlayer"
   ]
  },
  {
   "cell_type": "code",
   "execution_count": 19,
   "id": "a3acfdd3-4d88-494e-bcb3-4cc89d2fd17c",
   "metadata": {},
   "outputs": [
    {
     "name": "stderr",
     "output_type": "stream",
     "text": [
      "100%|██████████| 1000/1000 [00:00<00:00, 6094.74it/s]"
     ]
    },
    {
     "name": "stdout",
     "output_type": "stream",
     "text": [
      "Policy Player vs. Random Player\n",
      "-------------------------------\n",
      "Ties:                    0\n",
      "Policy Player Wins:      920\n",
      "Random Player Wins:      80\n",
      "Policy Player took:      0.04 seconds\n",
      "Random Player took:      0.09 seconds\n",
      "Average number of turns: 11.4\n"
     ]
    },
    {
     "name": "stderr",
     "output_type": "stream",
     "text": [
      "\n"
     ]
    }
   ],
   "source": [
    "t1 = tournament(nim1, [p1, random1], rounds=1000, switch_players=True, random_state=1)\n",
    "t1"
   ]
  },
  {
   "cell_type": "markdown",
   "id": "98397597-db7f-4f32-bc00-cec235dd1171",
   "metadata": {},
   "source": [
    "# Versus Minimax(2)"
   ]
  },
  {
   "cell_type": "code",
   "execution_count": 36,
   "id": "a5388a7f-10d7-41b1-a940-53930de373b9",
   "metadata": {},
   "outputs": [
    {
     "name": "stderr",
     "output_type": "stream",
     "text": [
      "100%|██████████| 1000/1000 [00:01<00:00, 607.55it/s]"
     ]
    },
    {
     "name": "stdout",
     "output_type": "stream",
     "text": [
      "Policy Player vs. Minimax Player 2\n",
      "----------------------------------\n",
      "Ties:                    0\n",
      "Policy Player Wins:      726\n",
      "Minimax Player 2 Wins:   274\n",
      "Policy Player took:      0.02 seconds\n",
      "Minimax Player 2 took:   1.57 seconds\n",
      "Average number of turns: 11.2\n"
     ]
    },
    {
     "name": "stderr",
     "output_type": "stream",
     "text": [
      "\n"
     ]
    }
   ],
   "source": [
    "t2 = tournament(nim1, [p1, minimax2], rounds=1000, switch_players=True, random_state=1)\n",
    "t2"
   ]
  },
  {
   "cell_type": "markdown",
   "id": "a1f255c4-e0c8-422c-8e25-e8554af3e649",
   "metadata": {},
   "source": [
    "# Versus Minimax(3)"
   ]
  },
  {
   "cell_type": "code",
   "execution_count": 38,
   "id": "a1b86878-8b05-4642-8e3b-8eb28a47ce2a",
   "metadata": {},
   "outputs": [
    {
     "name": "stderr",
     "output_type": "stream",
     "text": [
      "100%|██████████| 1000/1000 [00:16<00:00, 61.91it/s]"
     ]
    },
    {
     "name": "stdout",
     "output_type": "stream",
     "text": [
      "Policy Player vs. Minimax Player 3\n",
      "----------------------------------\n",
      "Ties:                    0\n",
      "Policy Player Wins:      402\n",
      "Minimax Player 3 Wins:   598\n",
      "Policy Player took:      0.03 seconds\n",
      "Minimax Player 3 took:   16.01 seconds\n",
      "Average number of turns: 12.2\n"
     ]
    },
    {
     "name": "stderr",
     "output_type": "stream",
     "text": [
      "\n"
     ]
    }
   ],
   "source": [
    "t3 = tournament(nim1, [p1, minimax3], rounds=1000, switch_players=True, random_state=1)\n",
    "t3"
   ]
  },
  {
   "cell_type": "markdown",
   "id": "532630a0-ecaf-464b-b323-0662c9efbaf6",
   "metadata": {},
   "source": [
    "# Versus Minimax(4)"
   ]
  },
  {
   "cell_type": "code",
   "execution_count": 39,
   "id": "fe61f728-65bc-4a5e-8d49-aba361766729",
   "metadata": {},
   "outputs": [
    {
     "name": "stderr",
     "output_type": "stream",
     "text": [
      "100%|██████████| 1000/1000 [02:47<00:00,  5.98it/s]"
     ]
    },
    {
     "name": "stdout",
     "output_type": "stream",
     "text": [
      "Policy Player vs. Minimax Player 4\n",
      "----------------------------------\n",
      "Ties:                    0\n",
      "Policy Player Wins:      188\n",
      "Minimax Player 4 Wins:   812\n",
      "Policy Player took:      0.03 seconds\n",
      "Minimax Player 4 took:   166.49 seconds\n",
      "Average number of turns: 11.6\n"
     ]
    },
    {
     "name": "stderr",
     "output_type": "stream",
     "text": [
      "\n"
     ]
    }
   ],
   "source": [
    "t4 = tournament(nim1, [p1, minimax4], rounds=1000, switch_players=True, random_state=1)\n",
    "t4"
   ]
  },
  {
   "cell_type": "markdown",
   "id": "b0d57113-47fe-4788-9a88-1ffd485a39f5",
   "metadata": {},
   "source": [
    "Temporal Difference Agent won: \n",
    "\n",
    "* 92% of games played against the RandomPlayer agent.\n",
    "* 72.6% of games played against the MinimaxPlayer agent with depth 2.\n",
    "* 40.2% of games played against the MinimaxPlayer agent with depth 3.\n",
    "* 18.8% of games played against the MinimaxPlayer agent with depth 4. "
   ]
  },
  {
   "cell_type": "markdown",
   "id": "2b01d99e-5fac-4681-a43d-b4a4f502553e",
   "metadata": {},
   "source": [
    "## Improved Exploration, Transition, and Fine-Tuning"
   ]
  },
  {
   "cell_type": "code",
   "execution_count": 63,
   "id": "30f38a1b-642a-4228-baf6-c171b8a0369f",
   "metadata": {},
   "outputs": [],
   "source": [
    "nim2 = Nim(piles=3, stones=9, limit=5)\n",
    "bot2 = RandomPlayer('Bot')\n",
    "bot_env2 = BotPlayerEnv(game_env=nim2, agent=bot2)\n",
    "td2 = TDAgent(bot_env2, gamma=1, random_state=1)\n",
    "\n",
    "#Exploration\n",
    "td2.q_learning(episodes=10000, epsilon=1.0, alpha=1, exploring_starts=True, track_history=False)\n",
    "\n",
    "#Transition\n",
    "td2.q_learning(episodes=10000, epsilon=0.8, alpha=0.4, exploring_starts=True, track_history=False)\n",
    "td2.q_learning(episodes=10000, epsilon=0.6, alpha=0.3, track_history=False)\n",
    "td2.q_learning(episodes=10000, epsilon=0.4, alpha=0.2, track_history=False)\n",
    "td2.q_learning(episodes=10000, epsilon=0.2, alpha=0.2, track_history=False)\n",
    "\n",
    "#Fine-tuning\n",
    "td2.q_learning(episodes=10000, epsilon=0.1, alpha=0.05, track_history=False)\n",
    "td2.q_learning(episodes=10000, epsilon=0.01, alpha=0.01, track_history=False)\n"
   ]
  },
  {
   "cell_type": "markdown",
   "id": "d59050b8-f1b7-4a91-a4f6-a5cb69de7877",
   "metadata": {},
   "source": [
    "Re-declare players/variables"
   ]
  },
  {
   "cell_type": "code",
   "execution_count": 66,
   "id": "c668c8dc-3690-416d-adf3-95ec7b4d8055",
   "metadata": {},
   "outputs": [],
   "source": [
    "p2 = PolicyPlayer('Policy Player', policy=td2.policy)\n",
    "random1 = RandomPlayer('Random Player')\n",
    "minimax2 = MinimaxPlayer('Minimax Player 2', depth=2)\n",
    "minimax3 = MinimaxPlayer('Minimax Player 3', depth=3)\n",
    "minimax4 = MinimaxPlayer('Minimax Player 4', depth=4)"
   ]
  },
  {
   "cell_type": "markdown",
   "id": "34ea9d6f-c7a2-4f91-a7ec-abe01bbe7fdd",
   "metadata": {},
   "source": [
    "# TDAgent VS RandomPlayer"
   ]
  },
  {
   "cell_type": "code",
   "execution_count": 68,
   "id": "427c7684-9f00-4018-b158-63c7dd56f284",
   "metadata": {},
   "outputs": [
    {
     "name": "stderr",
     "output_type": "stream",
     "text": [
      "100%|██████████| 1000/1000 [00:00<00:00, 7321.35it/s]"
     ]
    },
    {
     "name": "stdout",
     "output_type": "stream",
     "text": [
      "Policy Player vs. Random Player\n",
      "-------------------------------\n",
      "Ties:                    0\n",
      "Policy Player Wins:      999\n",
      "Random Player Wins:      1\n",
      "Policy Player took:      0.02 seconds\n",
      "Random Player took:      0.07 seconds\n",
      "Average number of turns: 10.9\n"
     ]
    },
    {
     "name": "stderr",
     "output_type": "stream",
     "text": [
      "\n"
     ]
    }
   ],
   "source": [
    "t5 = tournament(nim2, [p2, random1], rounds=1000, switch_players=True, random_state=1)\n",
    "t5"
   ]
  },
  {
   "cell_type": "markdown",
   "id": "3b7eed00-9d41-41e9-ac91-51147751e819",
   "metadata": {},
   "source": [
    "# Versus Minimax(2)"
   ]
  },
  {
   "cell_type": "code",
   "execution_count": 70,
   "id": "a20dca36-cefc-454c-bdf6-54836e40d3ae",
   "metadata": {},
   "outputs": [
    {
     "name": "stderr",
     "output_type": "stream",
     "text": [
      "100%|██████████| 1000/1000 [00:01<00:00, 654.56it/s]\n"
     ]
    },
    {
     "name": "stdout",
     "output_type": "stream",
     "text": [
      "Policy Player vs. Minimax Player 2\n",
      "----------------------------------\n",
      "Ties:                    0\n",
      "Policy Player Wins:      994\n",
      "Minimax Player 2 Wins:   6\n",
      "Policy Player took:      0.02 seconds\n",
      "Minimax Player 2 took:   1.46 seconds\n",
      "Average number of turns: 10.9\n"
     ]
    }
   ],
   "source": [
    "t6 = tournament(nim2, [p2, minimax2], rounds=1000, switch_players=True, random_state=1)\n",
    "t6"
   ]
  },
  {
   "cell_type": "markdown",
   "id": "a35b0b7f-44cf-48d1-9287-fe39c443996c",
   "metadata": {},
   "source": [
    "# Versus Minimax(3)"
   ]
  },
  {
   "cell_type": "code",
   "execution_count": 72,
   "id": "5412a9d7-8768-4fcd-ad47-9190a1a99bcb",
   "metadata": {},
   "outputs": [
    {
     "name": "stderr",
     "output_type": "stream",
     "text": [
      "100%|██████████| 1000/1000 [00:15<00:00, 64.00it/s]"
     ]
    },
    {
     "name": "stdout",
     "output_type": "stream",
     "text": [
      "Policy Player vs. Minimax Player 3\n",
      "----------------------------------\n",
      "Ties:                    0\n",
      "Policy Player Wins:      988\n",
      "Minimax Player 3 Wins:   12\n",
      "Policy Player took:      0.03 seconds\n",
      "Minimax Player 3 took:   15.46 seconds\n",
      "Average number of turns: 11.7\n"
     ]
    },
    {
     "name": "stderr",
     "output_type": "stream",
     "text": [
      "\n"
     ]
    }
   ],
   "source": [
    "t7 = tournament(nim2, [p2, minimax3], rounds=1000, switch_players=True, random_state=1)\n",
    "t7"
   ]
  },
  {
   "cell_type": "markdown",
   "id": "e93b34d3-2987-415f-a815-39aad31bda1a",
   "metadata": {},
   "source": [
    "# Versus Minimax(4)"
   ]
  },
  {
   "cell_type": "code",
   "execution_count": 73,
   "id": "652ddd4f-5d64-4e50-80c9-4a3e7be20ebd",
   "metadata": {},
   "outputs": [
    {
     "name": "stderr",
     "output_type": "stream",
     "text": [
      "100%|██████████| 1000/1000 [02:41<00:00,  6.20it/s]"
     ]
    },
    {
     "name": "stdout",
     "output_type": "stream",
     "text": [
      "Policy Player vs. Minimax Player 4\n",
      "----------------------------------\n",
      "Ties:                    0\n",
      "Policy Player Wins:      973\n",
      "Minimax Player 4 Wins:   27\n",
      "Policy Player took:      0.04 seconds\n",
      "Minimax Player 4 took:   160.74 seconds\n",
      "Average number of turns: 11.7\n"
     ]
    },
    {
     "name": "stderr",
     "output_type": "stream",
     "text": [
      "\n"
     ]
    }
   ],
   "source": [
    "t8 = tournament(nim2, [p2, minimax4], rounds=1000, switch_players=True, random_state=1)\n",
    "t8"
   ]
  },
  {
   "cell_type": "markdown",
   "id": "74203e43-f65f-46ae-9bcb-c17037e239be",
   "metadata": {},
   "source": [
    "Temporal Difference Agent won: \n",
    "\n",
    "* 99.9% of games played against the RandomPlayer agent.\n",
    "* 99.4% of games played against the MinimaxPlayer agent with depth 2.\n",
    "* 98.8% of games played against the MinimaxPlayer agent with depth 3.\n",
    "* 97.3% of games played against the MinimaxPlayer agent with depth 4. "
   ]
  }
 ],
 "metadata": {
  "kernelspec": {
   "display_name": "Python 3 (ipykernel)",
   "language": "python",
   "name": "python3"
  },
  "language_info": {
   "codemirror_mode": {
    "name": "ipython",
    "version": 3
   },
   "file_extension": ".py",
   "mimetype": "text/x-python",
   "name": "python",
   "nbconvert_exporter": "python",
   "pygments_lexer": "ipython3",
   "version": "3.12.4"
  }
 },
 "nbformat": 4,
 "nbformat_minor": 5
}
