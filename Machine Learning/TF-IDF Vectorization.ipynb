{
 "cells": [
  {
   "cell_type": "code",
   "execution_count": 1,
   "id": "9d6cce9c-3449-4bf1-897d-7f429ef10f26",
   "metadata": {},
   "outputs": [],
   "source": [
    "import pandas as pd\n",
    "import numpy as np\n",
    "from sklearn.feature_extraction.text import TfidfVectorizer\n",
    "import glob"
   ]
  },
  {
   "cell_type": "code",
   "execution_count": 2,
   "id": "4c2f71f6-1b7d-4a4e-8c6e-6047d87d2c77",
   "metadata": {},
   "outputs": [
    {
     "name": "stdout",
     "output_type": "stream",
     "text": [
      "['Climate change is a pressing global issue caused by greenhouse gas emissions from human activities. \\nRenewable energy sources, such as solar and wind power, are essential for reducing dependency on fossil fuels. \\nSustainable practices, including recycling and conservation, help mitigate environmental degradation.\\n', 'Investing in diverse asset classes can help mitigate financial risk. \\nStock markets fluctuate due to economic conditions and investor sentiment. \\nPersonal finance strategies, such as budgeting and saving, are crucial for long-term financial stability.\\n', 'Proper nutrition and regular exercise are key components of a healthy lifestyle. \\nMental health is equally important, and mindfulness techniques can improve overall well-being. \\nAdvances in medical research continue to provide new treatments for chronic diseases.\\n', 'Artificial intelligence (AI) is transforming various industries by automating complex processes. \\nMachine learning, a subset of AI, enables computers to learn from data without explicit programming. \\nDeep learning, based on neural networks, further enhances AI capabilities in image recognition and natural language processing.\\n']\n"
     ]
    }
   ],
   "source": [
    "folder_path = \"C:/Users/kelby/OneDrive/Desktop/Master's in AI/4-Machine Learning (DSCI-508)/Homework/Project 7/\"\n",
    "\n",
    "file_paths = glob.glob(folder_path + \"*.txt\")\n",
    "\n",
    "documents = [open(file, encoding='utf-8').read() for file in file_paths]\n",
    "\n",
    "print(documents)"
   ]
  },
  {
   "cell_type": "code",
   "execution_count": 3,
   "id": "3ae48226-e155-48a0-961c-938d166ac071",
   "metadata": {},
   "outputs": [],
   "source": [
    "vectorizer = TfidfVectorizer(stop_words=\"english\")\n",
    "\n",
    "tfidf_matrix = vectorizer.fit_transform(documents)\n",
    "\n",
    "feature_names = vectorizer.get_feature_names_out()\n",
    "\n",
    "df = pd.DataFrame(tfidf_matrix.toarray(), columns = feature_names)"
   ]
  },
  {
   "cell_type": "code",
   "execution_count": 4,
   "id": "933b499f-7997-4980-aa0b-00fbe5dda4c0",
   "metadata": {},
   "outputs": [
    {
     "name": "stdout",
     "output_type": "stream",
     "text": [
      "   activities  advances        ai  artificial     asset  automating     based  \\\n",
      "0    0.181839       0.0  0.000000    0.000000  0.000000    0.000000  0.000000   \n",
      "1    0.000000       0.0  0.000000    0.000000  0.195205    0.000000  0.000000   \n",
      "2    0.000000       0.2  0.000000    0.000000  0.000000    0.000000  0.000000   \n",
      "3    0.000000       0.0  0.474342    0.158114  0.000000    0.158114  0.158114   \n",
      "\n",
      "   budgeting  capabilities    caused  ...     stock  strategies    subset  \\\n",
      "0   0.000000      0.000000  0.181839  ...  0.000000    0.000000  0.000000   \n",
      "1   0.195205      0.000000  0.000000  ...  0.195205    0.195205  0.000000   \n",
      "2   0.000000      0.000000  0.000000  ...  0.000000    0.000000  0.000000   \n",
      "3   0.000000      0.158114  0.000000  ...  0.000000    0.000000  0.158114   \n",
      "\n",
      "   sustainable  techniques      term  transforming  treatments   various  \\\n",
      "0     0.181839         0.0  0.000000      0.000000         0.0  0.000000   \n",
      "1     0.000000         0.0  0.195205      0.000000         0.0  0.000000   \n",
      "2     0.000000         0.2  0.000000      0.000000         0.2  0.000000   \n",
      "3     0.000000         0.0  0.000000      0.158114         0.0  0.158114   \n",
      "\n",
      "       wind  \n",
      "0  0.181839  \n",
      "1  0.000000  \n",
      "2  0.000000  \n",
      "3  0.000000  \n",
      "\n",
      "[4 rows x 107 columns]\n"
     ]
    }
   ],
   "source": [
    "print(df)"
   ]
  }
 ],
 "metadata": {
  "kernelspec": {
   "display_name": "Python 3 (ipykernel)",
   "language": "python",
   "name": "python3"
  },
  "language_info": {
   "codemirror_mode": {
    "name": "ipython",
    "version": 3
   },
   "file_extension": ".py",
   "mimetype": "text/x-python",
   "name": "python",
   "nbconvert_exporter": "python",
   "pygments_lexer": "ipython3",
   "version": "3.12.4"
  }
 },
 "nbformat": 4,
 "nbformat_minor": 5
}
